{
  "cells": [
    {
      "cell_type": "markdown",
      "metadata": {
        "id": "view-in-github",
        "colab_type": "text"
      },
      "source": [
        "<a href=\"https://colab.research.google.com/github/samirsalman/Depixelizer/blob/main/Depixelizer.ipynb\" target=\"_parent\"><img src=\"https://colab.research.google.com/assets/colab-badge.svg\" alt=\"Open In Colab\"/></a>"
      ]
    },
    {
      "cell_type": "markdown",
      "source": [
        "# Convolutional AutoEncoder to Depixelize text images\n",
        "The goal is to learn a function to reconstruct \"pixeled\" text images.\n",
        "\n",
        "\n",
        "---\n",
        "\n",
        "![image.png](data:image/png;base64,iVBORw0KGgoAAAANSUhEUgAAANwAAAAyCAIAAAC4diIkAAAELUlEQVR4nO2cSyhuXRzGz4vcUkhuKbdIyD0TYiBDE4QSmVBSIhMmysCQMQMmikJRxi4JkVxSLikpyp2B+zW+wfP1dFpv3q9zzlvfOvX8Rr/OXmfvtd/9tP9r/XdxfH19/RDCJjz+7wkIYaJQCutQKIV1KJTCOhRKYR0KpbAOhVJYh0IprEOhFNahUArrUCiFdSiUwjoUSmEdCqWwDoVSWIdCKaxDoRTWoVAK61AohXUolMI6FEphHV5uP+PDwwNkYGAAEhYWBqmurjYGLy0tQfLz890+E/eyubkJ+fz8hHh6ekLe3985LDc3FzIxMQEpKyv77pyXl5eQoaEhSGBgIKS+vh7icDh+Y/Dk5CTk+voa8vLyAmlubobc3NxAhoeHIREREZDKykpjqru7u5CUlBTj0NjYGKSkpATCe6+pqTEGd3R0QEJDQyFtbW3G5PWmFNahUArrcH/53t7ehiQkJEBWV1e/G3x+fm78y9raGoSV3d/fH9LQ0GAM7urqgvj4+ECampogLG0sdnd3d5Ds7GxIXl4e5P7+HjI4OAiJioqCVFRUQDIyMiAsN6S3t9f51vb29iAbGxsQD49/XwGZmZmQvr4+SHt7O2Rubg6yuLgIKSgo+I3BpaWlkJOTE8jMzIwxw9vbW0hdXR2kp6cHwvJ9fHwM6ezshPT390NYf3d2dgxpbW397lqPj48QruVYtYnelMI6FEphHe4v3yEhIRBuwVzAGkdOT08hhYWFkOnpacjT0xOEBZ0FsaqqCjI1NQWpra2FHB4eQljru7u7ISzf4+PjkPLycggLOuG1oqOjIdx0cxv+M1wtjIyMQFgcCTfyvr6+kNjYWMjW1tafDCajo6OQxsZG41B8fDyEv/Db25sxhjeblZUFYdUm7EtwhRMUFGSM4fqKSwVu+TmNgIAAiN6UwjoUSmEd7i/fBwcHkKKiIsj8/DyEBYil0AVHR0cQtn+9vb2NMWdnZxC2dp2Li5fXf98j2/s8D4sve8VXV1fGId7Fzz0E9p+5xoiLi4Ps7+9DkpKSIJGRkZCVlRXIwsICxLnl/kuDn5+fIR8fH8Z8CPsb7FS4eC6vr68Qlng+DnYzuPhhE4NdfT5E/lZ+fn7fXUtvSmEdCqWwDofb/5IvT8iqzUZ0YmKiMdj5iyq3z2y3sjqkpqYa/72lpQXCr67FxcUQtmSdL+HiMy7b0TExMRDuDbks4QqBl7i4uOAZeI9sLLBY87NCeno6hL8Vr8sanZycbMztlwZzscElU3h4uDGGh2ZnZyH83sF9PeEGn/vx4OBgCHvmfEDr6+uQnJwc4zzLy8sQ7rXT0tKMMXpTCutQKIV1uL98/yFsnnO36NyJJS4Ksfh70ZtSWIdCKaxDoRTWYd2aUgi9KYV1KJTCOhRKYR0KpbAOhVJYh0IprEOhFNahUArr+Adu134jkO+ajAAAAABJRU5ErkJggg==)\n",
        "\n",
        "\n",
        "![image.png](data:image/png;base64,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)\n"
      ],
      "metadata": {
        "id": "Al3YE9N6ExsW"
      }
    },
    {
      "cell_type": "code",
      "execution_count": 1,
      "metadata": {
        "id": "sGmsRFRCFr-k",
        "colab": {
          "base_uri": "https://localhost:8080/"
        },
        "outputId": "8954de0a-3ddf-4b79-e849-f93723052caa"
      },
      "outputs": [
        {
          "output_type": "stream",
          "name": "stdout",
          "text": [
            "\u001b[K     |████████████████████████████████| 526 kB 5.4 MB/s \n",
            "\u001b[K     |████████████████████████████████| 829 kB 44.4 MB/s \n",
            "\u001b[K     |████████████████████████████████| 132 kB 41.0 MB/s \n",
            "\u001b[K     |████████████████████████████████| 596 kB 43.8 MB/s \n",
            "\u001b[K     |████████████████████████████████| 332 kB 42.1 MB/s \n",
            "\u001b[K     |████████████████████████████████| 1.1 MB 34.8 MB/s \n",
            "\u001b[K     |████████████████████████████████| 271 kB 47.3 MB/s \n",
            "\u001b[K     |████████████████████████████████| 160 kB 19.6 MB/s \n",
            "\u001b[K     |████████████████████████████████| 192 kB 45.7 MB/s \n",
            "\u001b[?25h  Building wheel for future (setup.py) ... \u001b[?25l\u001b[?25hdone\n"
          ]
        }
      ],
      "source": [
        "# In the experiments we are going to use PyTorchLightning (https://www.pytorchlightning.ai/)\n",
        "!pip install pytorch_lightning torchinfo --quiet"
      ]
    },
    {
      "cell_type": "code",
      "execution_count": 4,
      "metadata": {
        "id": "h4FYYhG9eiy3"
      },
      "outputs": [],
      "source": [
        "import pytorch_lightning as pl\n",
        "import PIL\n",
        "import matplotlib.pyplot as plt\n",
        "import seaborn as sns\n",
        "import requests\n",
        "from io import BytesIO\n",
        "from PIL import ImageFont, ImageDraw, Image\n",
        "import numpy as np\n",
        "\n",
        "from typing import List, Tuple, Union\n",
        "import os\n",
        "from tqdm.notebook import tqdm\n",
        "\n",
        "import random\n",
        "import string\n",
        "from google.colab import drive\n",
        "import zipfile\n",
        "\n",
        "from torchinfo import summary\n",
        "import torchvision\n",
        "from torchvision.datasets import ImageFolder\n",
        "import torch\n",
        "from torch.utils.data import Dataset \n",
        "import torch.nn as nn\n",
        "import torch.nn.functional as F\n"
      ]
    },
    {
      "cell_type": "markdown",
      "metadata": {
        "id": "qiOXaRotorsp"
      },
      "source": [
        "## Generate dataset\n",
        "\n",
        "In this section, I generate a dataset with Clean image - Pixeled image couples. Our model should reconstruct the clean image Y from the corresponding pixeled image Y.  "
      ]
    },
    {
      "cell_type": "code",
      "execution_count": 14,
      "metadata": {
        "id": "avrAOKBAfX_y"
      },
      "outputs": [],
      "source": [
        "# In the experiments I use only Roboto fonts to generate the dataset. \n",
        "# In order to obtain better model we should use more fonts.\n",
        "req = requests.get(\"https://github.com/googlefonts/roboto/blob/main/src/hinted/Roboto-Regular.ttf?raw=true\")"
      ]
    },
    {
      "cell_type": "code",
      "execution_count": 17,
      "metadata": {
        "id": "R_JtdeuJe2RZ"
      },
      "outputs": [],
      "source": [
        "def pixelate_rgb(img:np.array, window:int)->Image:\n",
        "    n, m, _ = img.shape\n",
        "    n, m = n - n % window, m - m % window\n",
        "    img1 = np.zeros((n, m, 3))\n",
        "    for x in range(0, n, window):\n",
        "        for y in range(0, m, window):\n",
        "            img1[x:x+window,y:y+window] = img[x:x+window,y:y+window].mean(axis=(0,1))\n",
        "    return Image.fromarray((img1 * 1).astype(np.uint8))\n",
        "\n",
        "def generate_text_image(out_file:str=\"out\")-> Tuple[Image.Image, Image.Image]:\n",
        "  len = random.randint(4, 20)\n",
        "  text = ' '.join(random.choices(string.ascii_letters + string.digits + \" \", k=len))\n",
        "  fnt = ImageFont.truetype(BytesIO(req.content),16)\n",
        "  h = random.randint(0, 20)\n",
        "  w = random.randint(0, 200)\n",
        "  b = Image.new('RGB',(256,64),color=(255, 255, 255))\n",
        "  draw = ImageDraw.Draw(b)\n",
        "  draw.text((w, h), text, fill=0, font=fnt)\n",
        "  window = random.randint(2, 4)\n",
        "  pixeled = pixelate_rgb(np.array(b), window=window)\n",
        "  pixeled = pixeled.resize((256, 64), Image.DEFAULT_STRATEGY)\n",
        "  #pixeled.save(f\"{out_file}.png\", format=\"png\")\n",
        "  return b, pixeled"
      ]
    },
    {
      "cell_type": "code",
      "execution_count": 19,
      "metadata": {
        "id": "MkPbzyCPfk6F"
      },
      "outputs": [],
      "source": [
        "def generate_dataset(k:int=100) -> None:\n",
        "\n",
        "  if not os.path.isdir(\"dataset\"):\n",
        "    os.mkdir(\"dataset\")\n",
        "\n",
        "  if not os.path.isdir(\"dataset/clean\"):\n",
        "    os.mkdir(\"dataset/clean\")\n",
        "  \n",
        "  if not os.path.isdir(\"dataset/pixeled\"):\n",
        "    os.mkdir(\"dataset/pixeled\")\n",
        "\n",
        "  for i in tqdm(range(k)):\n",
        "    clean, pixeled = generate_text_image()\n",
        "    pixeled.save(f\"dataset/pixeled/{i}.png\", format=\"png\")\n",
        "    clean.save(f\"dataset/clean/{i}.png\", format=\"png\")\n"
      ]
    },
    {
      "cell_type": "code",
      "execution_count": 22,
      "metadata": {
        "colab": {
          "base_uri": "https://localhost:8080/",
          "height": 49,
          "referenced_widgets": [
            "5906cedeb3044bc291a852a382b896fc",
            "a7b06651864d49818095d04f30b18634",
            "913cafaac31245739de0a88d6c433ebb",
            "18d6c7e297e44f7bb4f6ef305921220c",
            "22d5e391ba8d4bbb9463e174a074fdfe",
            "e5f31321469b44bab5c919f1ea40eb48",
            "6a89652c8c4b4e7fa5a8138bb8ed08a8",
            "0f794c8087b44a26af06585255b7bceb",
            "172aaee031f94193a645116c2b7eeadb",
            "83631cf64cde43efa3b0948eaa4c207d",
            "ad0b3dd3f30e44b4b4a2004321058e61"
          ]
        },
        "id": "ec3qDOtHf581",
        "outputId": "d0bd1459-946f-4e34-ae7d-5135979da71b"
      },
      "outputs": [
        {
          "output_type": "display_data",
          "data": {
            "application/vnd.jupyter.widget-view+json": {
              "model_id": "5906cedeb3044bc291a852a382b896fc",
              "version_minor": 0,
              "version_major": 2
            },
            "text/plain": [
              "  0%|          | 0/20000 [00:00<?, ?it/s]"
            ]
          },
          "metadata": {}
        }
      ],
      "source": [
        "# generate dataset\n",
        "# if you downloaded the dataset, you can skip this step and goto \"Load the data\" section\n",
        "generate_dataset(20000)"
      ]
    },
    {
      "cell_type": "markdown",
      "metadata": {
        "id": "WEPh6bchowXH"
      },
      "source": [
        "## Save the dataset"
      ]
    },
    {
      "cell_type": "code",
      "execution_count": 23,
      "metadata": {
        "colab": {
          "base_uri": "https://localhost:8080/"
        },
        "id": "LxvCEE83k5lt",
        "outputId": "f54f09e6-8850-4a49-d30b-fd44a184f54a"
      },
      "outputs": [
        {
          "output_type": "stream",
          "name": "stdout",
          "text": [
            "Mounted at /content/gdrive\n"
          ]
        }
      ],
      "source": [
        "# save dataset\n",
        "drive.mount('/content/gdrive', force_remount=True)"
      ]
    },
    {
      "cell_type": "code",
      "execution_count": 24,
      "metadata": {
        "id": "9Irmcs8Km1XU"
      },
      "outputs": [],
      "source": [
        "# zip dataset folder\n",
        "def zipfolder(foldername:str, target_dir:str)->None:            \n",
        "    zipobj = zipfile.ZipFile(foldername + '.zip', 'w', zipfile.ZIP_DEFLATED)\n",
        "    rootlen = len(target_dir) + 1\n",
        "    for base, dirs, files in os.walk(target_dir):\n",
        "        for file in files:\n",
        "            fn = os.path.join(base, file)\n",
        "            zipobj.write(fn, fn[rootlen:])\n"
      ]
    },
    {
      "cell_type": "code",
      "execution_count": 25,
      "metadata": {
        "id": "j4tFovjqmrLQ"
      },
      "outputs": [],
      "source": [
        "zipfolder(\"dataset\", \"dataset\")"
      ]
    },
    {
      "cell_type": "code",
      "source": [
        "os.mkdir(\"/content/gdrive/MyDrive/Depixelizer\")"
      ],
      "metadata": {
        "id": "KjGWnMVSppWS"
      },
      "execution_count": null,
      "outputs": []
    },
    {
      "cell_type": "code",
      "execution_count": 27,
      "metadata": {
        "id": "wwKn7D4Wm_hU"
      },
      "outputs": [],
      "source": [
        "!cp dataset.zip /content/gdrive/MyDrive/Depixelizer/text_image_dataset.zip"
      ]
    },
    {
      "cell_type": "markdown",
      "metadata": {
        "id": "kPMXPqR6ozjy"
      },
      "source": [
        "## Get an example"
      ]
    },
    {
      "cell_type": "code",
      "execution_count": 28,
      "metadata": {
        "colab": {
          "base_uri": "https://localhost:8080/",
          "height": 81
        },
        "id": "jyOYoZvbnwi9",
        "outputId": "48d80d6d-b040-46aa-9b5e-da5d79d437cd"
      },
      "outputs": [
        {
          "output_type": "execute_result",
          "data": {
            "image/png": "[encoded data removed]",
            "text/plain": [
              "<PIL.PngImagePlugin.PngImageFile image mode=RGB size=256x64 at 0x7F310C1FF990>"
            ]
          },
          "metadata": {},
          "execution_count": 28
        }
      ],
      "source": [
        "Image.open(\"/content/dataset/clean/15.png\")"
      ]
    },
    {
      "cell_type": "code",
      "execution_count": 29,
      "metadata": {
        "colab": {
          "base_uri": "https://localhost:8080/",
          "height": 81
        },
        "id": "0Af_YzX8okzB",
        "outputId": "ac33810c-357a-401c-e648-7dfeb53bb5c8"
      },
      "outputs": [
        {
          "output_type": "execute_result",
          "data": {
            "image/png": "[encoded data removed]",
            "text/plain": [
              "<PIL.PngImagePlugin.PngImageFile image mode=RGB size=256x64 at 0x7F310C1D5F50>"
            ]
          },
          "metadata": {},
          "execution_count": 29
        }
      ],
      "source": [
        "Image.open(\"/content/dataset/pixeled/15.png\")"
      ]
    },
    {
      "cell_type": "markdown",
      "metadata": {
        "id": "h3jjFviO3v4n"
      },
      "source": [
        "## Load the data\n",
        "\n",
        "You can start from this section if you have already downloaded the dataset from the repository.\n",
        "\n",
        "Copy the dataset in your drive, using the path: \n",
        "\"/content/gdrive/MyDrive/Depixelizer/text_image_dataset.zip\""
      ]
    },
    {
      "cell_type": "code",
      "execution_count": 30,
      "metadata": {
        "colab": {
          "base_uri": "https://localhost:8080/"
        },
        "id": "0-88--ZVom9U",
        "outputId": "ff1d1efe-f539-4c14-fe84-aecbe64497ea"
      },
      "outputs": [
        {
          "output_type": "stream",
          "name": "stdout",
          "text": [
            "Drive already mounted at /content/gdrive; to attempt to forcibly remount, call drive.mount(\"/content/gdrive\", force_remount=True).\n"
          ]
        }
      ],
      "source": [
        "drive.mount('/content/gdrive')"
      ]
    },
    {
      "cell_type": "code",
      "execution_count": 5,
      "metadata": {
        "id": "Z4xJdJ1q39Yd"
      },
      "outputs": [],
      "source": [
        "zipfile.ZipFile(\"/content/gdrive/MyDrive/Depixelizer/text_image_dataset.zip\").extractall(\"dataset/\")"
      ]
    },
    {
      "cell_type": "code",
      "execution_count": 31,
      "metadata": {
        "id": "MnE4UtB54zQS"
      },
      "outputs": [],
      "source": [
        "data_dir = \"dataset/\"\n",
        "img_height = 64\n",
        "img_width = 256\n",
        "batch_size = 32"
      ]
    },
    {
      "cell_type": "code",
      "execution_count": 32,
      "metadata": {
        "id": "aeDNcLnZ4cqj"
      },
      "outputs": [],
      "source": [
        "def load_data()->Tuple[List[np.array], List[np.array]]:\n",
        "  clean = list()\n",
        "  pixeled = list()\n",
        "  for f in tqdm(os.listdir(\"dataset/clean/\")):\n",
        "    clean_img = PIL.Image.open(f\"dataset/clean/{f}\")\n",
        "    noisy = PIL.Image.open(f\"dataset/pixeled/{f}\")\n",
        "    clean.append(np.array(clean_img))\n",
        "    pixeled.append(np.array(noisy))\n",
        "  \n",
        "  return clean, pixeled"
      ]
    },
    {
      "cell_type": "code",
      "execution_count": 33,
      "metadata": {
        "colab": {
          "base_uri": "https://localhost:8080/",
          "height": 49,
          "referenced_widgets": [
            "ae5ba9d73fc14c43b614e1dac3dab911",
            "dac2cc93dd3d4bb8af1a58cbcb31ecd8",
            "95d66c393f93415d95f76ca57cbdac70",
            "e313050d7c8044bd9f6dafa62c7345a2",
            "8f860c020745447fa9262347ee00e06b",
            "fab0bbc00ca644afa6f3cc0d1d3a4d9c",
            "fcabc9334e424fffafc94ca56c2ca5ac",
            "ebd35728c2264eb8be107b41495fad80",
            "5c8d07cd43364ac3b75795e53ce67c54",
            "38e1545599d34af69402b8ca3b74c490",
            "797e1311437b43e2b92f477e8ea5b16d"
          ]
        },
        "id": "87xpQ_Cw4yjJ",
        "outputId": "07536416-b913-4b2b-9e0d-1ed7296eb312"
      },
      "outputs": [
        {
          "output_type": "display_data",
          "data": {
            "application/vnd.jupyter.widget-view+json": {
              "model_id": "ae5ba9d73fc14c43b614e1dac3dab911",
              "version_minor": 0,
              "version_major": 2
            },
            "text/plain": [
              "  0%|          | 0/20000 [00:00<?, ?it/s]"
            ]
          },
          "metadata": {}
        }
      ],
      "source": [
        "clean, pixeled = load_data()"
      ]
    },
    {
      "cell_type": "code",
      "source": [
        "print(np.array(clean).shape)\n",
        "print(np.array(pixeled).shape)"
      ],
      "metadata": {
        "colab": {
          "base_uri": "https://localhost:8080/"
        },
        "id": "qwkrCEebRDvV",
        "outputId": "e6d204d5-4e6f-408c-bcb5-51d16d8dd7cd"
      },
      "execution_count": 34,
      "outputs": [
        {
          "output_type": "stream",
          "name": "stdout",
          "text": [
            "(20000, 64, 256, 3)\n",
            "(20000, 64, 256, 3)\n"
          ]
        }
      ]
    },
    {
      "cell_type": "markdown",
      "metadata": {
        "id": "hga-hppIGLFm"
      },
      "source": [
        "## Torch Data Loading\n",
        "\n",
        "Create an AutoEncoder Dataset and generate the train, val, test sets, and their DataLoaders."
      ]
    },
    {
      "cell_type": "code",
      "source": [
        "class AutoencoderDataset(Dataset):\n",
        "  def __init__(self, clean, pixeled, height, width):\n",
        "    self.x = pixeled\n",
        "    self.y = clean\n",
        "    self.transform =torchvision.transforms.Compose([\n",
        "                                              torchvision.transforms.ToTensor(),     \n",
        "                                              torchvision.transforms.Resize((height, width)),\n",
        "                                              torchvision.transforms.Normalize((0.5,),(0.5,)),\n",
        "    ])\n",
        "\n",
        "\n",
        "  def __len__(self):\n",
        "    return len(self.x)\n",
        "    \n",
        "  \n",
        "  def __getitem__(self, idx:int)->Tuple[torch.Tensor, torch.Tensor]:\n",
        "    if torch.is_tensor(idx):\n",
        "      idx = idx.tolist()\n",
        "    x = self.x[idx]\n",
        "    y = self.y[idx]\n",
        "    \n",
        "    x = self.transform(x)\n",
        "    y = self.transform(y)\n",
        "        \n",
        "    return x, y\n"
      ],
      "metadata": {
        "id": "Nk7L3Il6_Oup"
      },
      "execution_count": 35,
      "outputs": []
    },
    {
      "cell_type": "code",
      "execution_count": 36,
      "metadata": {
        "id": "xx0t6u1IGkx1"
      },
      "outputs": [],
      "source": [
        "dataset = AutoencoderDataset(clean=clean, pixeled=pixeled, height=img_height, width=img_width)"
      ]
    },
    {
      "cell_type": "code",
      "execution_count": 37,
      "metadata": {
        "colab": {
          "base_uri": "https://localhost:8080/"
        },
        "id": "0jwXPhHlH1Km",
        "outputId": "7c2f0fdc-888a-4a5a-aa56-350190ee52ec"
      },
      "outputs": [
        {
          "output_type": "execute_result",
          "data": {
            "text/plain": [
              "torch.Size([3, 64, 256])"
            ]
          },
          "metadata": {},
          "execution_count": 37
        }
      ],
      "source": [
        "dataset.__getitem__(0)[0].shape"
      ]
    },
    {
      "cell_type": "code",
      "execution_count": 38,
      "metadata": {
        "id": "UMXXBgSyHU0s"
      },
      "outputs": [],
      "source": [
        "# split train val\n",
        "train_set, val_set = torch.utils.data.random_split(dataset, [18000, 2000])\n",
        "# split val test\n",
        "val_set, test_set = torch.utils.data.random_split(val_set, [1200, 800])"
      ]
    },
    {
      "cell_type": "code",
      "execution_count": 39,
      "metadata": {
        "id": "pxrn74-FH6Ik"
      },
      "outputs": [],
      "source": [
        "train_loader = torch.utils.data.DataLoader(\n",
        "    train_set,\n",
        "    batch_size=batch_size,\n",
        "    shuffle=True\n",
        ")\n",
        "\n",
        "val_loader = torch.utils.data.DataLoader(\n",
        "    val_set,\n",
        "    batch_size=batch_size,\n",
        "    shuffle=False\n",
        ")\n",
        "\n",
        "test_loader = torch.utils.data.DataLoader(\n",
        "    test_set,\n",
        "    batch_size=64,\n",
        "    shuffle=False\n",
        ")"
      ]
    },
    {
      "cell_type": "code",
      "source": [
        "test_set.__getitem__(2)[0].shape"
      ],
      "metadata": {
        "id": "1rdSwhW2QA8z",
        "colab": {
          "base_uri": "https://localhost:8080/"
        },
        "outputId": "a8da4081-c1d0-4766-fab8-42a63d757501"
      },
      "execution_count": 40,
      "outputs": [
        {
          "output_type": "execute_result",
          "data": {
            "text/plain": [
              "torch.Size([3, 64, 256])"
            ]
          },
          "metadata": {},
          "execution_count": 40
        }
      ]
    },
    {
      "cell_type": "markdown",
      "metadata": {
        "id": "6c5IDOisIS_w"
      },
      "source": [
        "## Model\n",
        "\n",
        "Convolutional AutoEncoder Model:\n",
        "\n",
        "\n",
        "```\n",
        "=================================================================\n",
        "Layer (type:depth-idx)                   Param #\n",
        "=================================================================\n",
        "AutoEncoder                              --\n",
        "├─Sequential: 1-1                        --\n",
        "│    └─Conv2d: 2-1                       168\n",
        "│    └─BatchNorm2d: 2-2                  12\n",
        "│    └─ReLU: 2-3                         --\n",
        "│    └─MaxPool2d: 2-4                    --\n",
        "│    └─Conv2d: 2-5                       660\n",
        "│    └─BatchNorm2d: 2-6                  24\n",
        "│    └─ReLU: 2-7                         --\n",
        "│    └─MaxPool2d: 2-8                    --\n",
        "│    └─Conv2d: 2-9                       2,616\n",
        "│    └─BatchNorm2d: 2-10                 48\n",
        "│    └─ReLU: 2-11                        --\n",
        "│    └─MaxPool2d: 2-12                   --\n",
        "├─Sequential: 1-2                        --\n",
        "│    └─ConvTranspose2d: 2-13             1,164\n",
        "│    └─BatchNorm2d: 2-14                 24\n",
        "│    └─ReLU: 2-15                        --\n",
        "│    └─ConvTranspose2d: 2-16             294\n",
        "│    └─BatchNorm2d: 2-17                 12\n",
        "│    └─ReLU: 2-18                        --\n",
        "│    └─ConvTranspose2d: 2-19             75\n",
        "│    └─BatchNorm2d: 2-20                 6\n",
        "├─MSELoss: 1-3                           --\n",
        "=================================================================\n",
        "Total params: 5,103\n",
        "Trainable params: 5,103\n",
        "Non-trainable params: 0\n",
        "=================================================================\n",
        "\n",
        "```\n"
      ]
    },
    {
      "cell_type": "code",
      "execution_count": 53,
      "metadata": {
        "id": "CT0FUkAyIUnu"
      },
      "outputs": [],
      "source": [
        "class AutoEncoder(pl.LightningModule):\n",
        "    def __init__(self):\n",
        "        super().__init__()\n",
        "\n",
        "        # encoder net\n",
        "        self.encoder = nn.Sequential(\n",
        "            # 256 x 64 x 3\n",
        "            nn.Conv2d(3, 6, 3, padding=1),\n",
        "            nn.BatchNorm2d(6),\n",
        "            nn.ReLU(),\n",
        "            nn.MaxPool2d(2, 2),\n",
        "            # 128 x 32 x 6\n",
        "            nn.Conv2d(6, 12, 3, padding=1),\n",
        "            nn.BatchNorm2d(12),\n",
        "            nn.ReLU(),\n",
        "            nn.MaxPool2d(2, 2),\n",
        "            # 64 x 16 x 12\n",
        "            nn.Conv2d(12, 24, 3, padding=1),\n",
        "            nn.BatchNorm2d(24),\n",
        "            nn.ReLU(),\n",
        "            nn.MaxPool2d(2, 2),\n",
        "            # 32 x 8 x 24\n",
        "        )\n",
        "\n",
        "        # decoder net\n",
        "        self.decoder = nn.Sequential(\n",
        "            # 32 x 8 x 24\n",
        "            nn.ConvTranspose2d(24, 12, 2, stride=2),\n",
        "            nn.BatchNorm2d(12),\n",
        "            nn.ReLU(),\n",
        "            # 64 x 16 x 12\n",
        "            nn.ConvTranspose2d(12, 6, 2, stride=2),\n",
        "            nn.BatchNorm2d(6),\n",
        "            nn.ReLU(),\n",
        "            # 128 x 32 x 6\n",
        "            nn.ConvTranspose2d(6, 3, 2, stride=2),\n",
        "            nn.BatchNorm2d(3)\n",
        "            # 256 x 64 x 3\n",
        "        )\n",
        "        \n",
        "        # loss\n",
        "        self.criterion = torch.nn.MSELoss()\n",
        "\n",
        "    def forward(self, x):\n",
        "        # encode\n",
        "        x = self.encoder(x)\n",
        "        # decode\n",
        "        x = self.decoder(x)\n",
        "        # sigmoid function\n",
        "        x = F.sigmoid(x)        \n",
        "        return x\n",
        "\n",
        "    def get_bottleneck(self, x):\n",
        "      return torch.flatten(self.encoder(x))\n",
        "\n",
        "    def training_step(self, batch, batch_idx):\n",
        "        x, y = batch\n",
        "        y_hat = self(x)\n",
        "        loss = self.criterion(y, y_hat)\n",
        "        self.log(\"train_loss\",loss)\n",
        "        return loss\n",
        "\n",
        "    def test_step(self, batch, batch_idx):\n",
        "        x, y = batch\n",
        "        y_hat = self(x)\n",
        "        loss = self.criterion(y, y_hat)\n",
        "        self.log(\"test_loss\", loss)\n",
        "        return loss\n",
        "      \n",
        "    def validation_step(self, batch, batch_idx):\n",
        "        x, y = batch\n",
        "        y_hat = self(x)\n",
        "        loss = self.criterion(y, y_hat)\n",
        "        self.log(\"val_loss\",loss)\n",
        "        return loss\n",
        "\n",
        "    def predict_step(self, batch, batch_idx, dataloader_idx=None):\n",
        "        x, y = batch\n",
        "        y_hat = self(x)\n",
        "        return y_hat\n",
        "\n",
        "    def configure_optimizers(self):\n",
        "        return torch.optim.Adam(model.parameters(), lr=0.001)"
      ]
    },
    {
      "cell_type": "markdown",
      "source": [
        "## Training\n",
        "\n",
        "Train the model"
      ],
      "metadata": {
        "id": "KmAYvbSUnqoO"
      }
    },
    {
      "cell_type": "code",
      "source": [
        "# Callbacks\n",
        "model_checkpoint = pl.callbacks.ModelCheckpoint(\n",
        "    \"/content/gdrive/MyDrive/Depixelizer/model/\",\n",
        "    filename=\"best\",\n",
        "    monitor = \"val_loss\",\n",
        "    mode=\"min\"\n",
        ")\n",
        "\n",
        "# early stopping\n",
        "early_stopping = pl.callbacks.EarlyStopping(\n",
        "    monitor=\"val_loss\",\n",
        "    patience=10,\n",
        "    mode=\"min\"\n",
        ")\n",
        "\n",
        "model = AutoEncoder()"
      ],
      "metadata": {
        "id": "mNAa_54BAkU1"
      },
      "execution_count": 54,
      "outputs": []
    },
    {
      "cell_type": "code",
      "execution_count": null,
      "metadata": {
        "colab": {
          "base_uri": "https://localhost:8080/",
          "height": 416,
          "referenced_widgets": [
            "477f0ae48e484f9a81c342b13d4d4747",
            "413dd851f1914089a9f10cd63b190a5d",
            "60fec336caf743bfb72da52e31cea1cc",
            "62c68b32d8774a2b8354ed1606a594ed",
            "95554dbb89a14a578bf14c66e00d8333",
            "1cd48ae28216403483093e8d356ecdbb",
            "7b26713c874d4fe883834f843ee92757",
            "7e743ac405ee45f484e95420e3dbeb19",
            "d7bf160beb4445f88d2052ef197f17f1",
            "9196cec14b2047b0bf779a59b624c470",
            "7ed7d1c814b9449b8663639562afaa0d",
            "020fee6e9d7e48ce8e8d4c25c90c08e9",
            "8cf725f240ae4391bb4435aa9684a723",
            "648fe8f0f35f44b68b6153a950c404d2",
            "4460ef175d6f4478933987e9149e3f18",
            "a0f20340e25449a889b582d6ba8ec158",
            "f44064f92c904b24a4cee21baa2b8b64",
            "c8d7e4abc1964c34b6b05503d2861def",
            "b9151315fc4449c3ae5bf1baa382b830",
            "33f58fe21a954cd2bd65871794217411",
            "771bda53324c4f5b92047ed8d0dacc5a",
            "c124136b2201444e89912d94b5fae258",
            "72a3f1e3cd624c40a57d282e5d5f1691",
            "9546e38fc1de43f88955f7dec541882e",
            "4adba77a39814db5943cd592df7b2d77",
            "bdcba329e49a4b718ff6a56dd687c2d5",
            "0d04fb48046944fbb1d168e1b05076f3",
            "47955a87d7134fa1b7443e4e0b26f5e1",
            "ef13288b8b3d4a27bd2fc4d2d1c12233",
            "c8b6cc686b344ac0b1bc27267505a10a",
            "d9e2a32a96474137bede3cbce41964f1",
            "7a99708082c14bd29dc137b44b997646",
            "fe4c0740bd9745c5b35d370287a3c4c2",
            "aa6cd1c943a74d3fa880d01ef2b74100",
            "87b07f5fe25349769a951389407bed55",
            "cc42de57198c4a9ca20fc14c42c74b7e",
            "701086b332ee40b48459e9d41c320b9f",
            "399737368e494fb38a0e4a2f786b4401",
            "701dfde17f454032b1fab471d01fba7b",
            "4e6f57a2db854b7082d9fae7016673c3",
            "c5652eb6c04f4eec92ec57dcfb96d8f6",
            "aa10bf8c963c436abca3d6c824ce835b",
            "1d4cdc8c4ed049d384993182460d88a8",
            "665beaffc40c4069b1da9d399fa37356",
            "8ff1333dce894851bdbc91a7672221fb",
            "936755b08bc14027a29a862a9c9a3132",
            "0c914810101d4bcb97a40baa18abe0df",
            "edccba2e7a33482c9628a9a27ed6a43b",
            "d4f4f2da65e54f21b18fc2b0071bee4a",
            "e061839e6bcc435686ec85ca7065e6b0",
            "ec3968d67ceb4f53a34d30573dca5a05",
            "cd148a9da59c49d6b7b26246a2135389",
            "43198818eb394436a76f626a9f69f82b",
            "0fdbe001ef6e436783a2a2a7dd3cadfd",
            "6a8b4e64c1404fa6a6d135ec65e9c01d"
          ]
        },
        "id": "Kfdi6AYzJhes",
        "outputId": "3df82949-0ac6-4de6-b76e-c6fe4e457d2b"
      },
      "outputs": [
        {
          "output_type": "stream",
          "name": "stderr",
          "text": [
            "GPU available: True, used: True\n",
            "TPU available: False, using: 0 TPU cores\n",
            "IPU available: False, using: 0 IPUs\n",
            "LOCAL_RANK: 0 - CUDA_VISIBLE_DEVICES: [0]\n",
            "Missing logger folder: /content/lightning_logs\n",
            "\n",
            "  | Name      | Type       | Params\n",
            "-----------------------------------------\n",
            "0 | encoder   | Sequential | 3.5 K \n",
            "1 | decoder   | Sequential | 1.6 K \n",
            "2 | criterion | MSELoss    | 0     \n",
            "-----------------------------------------\n",
            "5.1 K     Trainable params\n",
            "0         Non-trainable params\n",
            "5.1 K     Total params\n",
            "0.020     Total estimated model params size (MB)\n",
            "/usr/local/lib/python3.7/dist-packages/pytorch_lightning/callbacks/model_checkpoint.py:631: UserWarning: Checkpoint directory /content/gdrive/MyDrive/Depixelizer/model exists and is not empty.\n",
            "  rank_zero_warn(f\"Checkpoint directory {dirpath} exists and is not empty.\")\n"
          ]
        },
        {
          "output_type": "display_data",
          "data": {
            "application/vnd.jupyter.widget-view+json": {
              "model_id": "477f0ae48e484f9a81c342b13d4d4747",
              "version_minor": 0,
              "version_major": 2
            },
            "text/plain": [
              "Validation sanity check: 0it [00:00, ?it/s]"
            ]
          },
          "metadata": {}
        },
        {
          "output_type": "stream",
          "name": "stderr",
          "text": [
            "/usr/local/lib/python3.7/dist-packages/torch/nn/functional.py:1806: UserWarning: nn.functional.sigmoid is deprecated. Use torch.sigmoid instead.\n",
            "  warnings.warn(\"nn.functional.sigmoid is deprecated. Use torch.sigmoid instead.\")\n"
          ]
        },
        {
          "output_type": "display_data",
          "data": {
            "application/vnd.jupyter.widget-view+json": {
              "model_id": "020fee6e9d7e48ce8e8d4c25c90c08e9",
              "version_minor": 0,
              "version_major": 2
            },
            "text/plain": [
              "Training: 0it [00:00, ?it/s]"
            ]
          },
          "metadata": {}
        },
        {
          "output_type": "display_data",
          "data": {
            "application/vnd.jupyter.widget-view+json": {
              "model_id": "72a3f1e3cd624c40a57d282e5d5f1691",
              "version_minor": 0,
              "version_major": 2
            },
            "text/plain": [
              "Validating: 0it [00:00, ?it/s]"
            ]
          },
          "metadata": {}
        },
        {
          "output_type": "display_data",
          "data": {
            "application/vnd.jupyter.widget-view+json": {
              "model_id": "aa6cd1c943a74d3fa880d01ef2b74100",
              "version_minor": 0,
              "version_major": 2
            },
            "text/plain": [
              "Validating: 0it [00:00, ?it/s]"
            ]
          },
          "metadata": {}
        },
        {
          "output_type": "display_data",
          "data": {
            "application/vnd.jupyter.widget-view+json": {
              "model_id": "8ff1333dce894851bdbc91a7672221fb",
              "version_minor": 0,
              "version_major": 2
            },
            "text/plain": [
              "Validating: 0it [00:00, ?it/s]"
            ]
          },
          "metadata": {}
        }
      ],
      "source": [
        "# create model output dir\n",
        "if not os.path.isdir(\"/content/gdrive/MyDrive/Depixelizer/model/\"):\n",
        "  os.mkdir(\"/content/gdrive/MyDrive/Depixelizer/model/\")\n",
        "\n",
        "\n",
        "trainer = pl.Trainer(max_epochs=100, gpus=1, callbacks=[model_checkpoint, early_stopping])\n",
        "\n",
        "# callbacks\n",
        "trainer.fit(model, train_dataloaders=train_loader, val_dataloaders=val_loader)"
      ]
    },
    {
      "cell_type": "code",
      "source": [
        "summary(model)"
      ],
      "metadata": {
        "id": "A_mZvdKcZrRB"
      },
      "execution_count": null,
      "outputs": []
    },
    {
      "cell_type": "code",
      "source": [
        "# save last version of the trained model\n",
        "trainer.save_checkpoint(\"/content/gdrive/MyDrive/Depixelizer/model/last.ckpt\")"
      ],
      "metadata": {
        "id": "mv_KPuMg_3eG"
      },
      "execution_count": null,
      "outputs": []
    },
    {
      "cell_type": "markdown",
      "source": [
        "## Predict (Testing)"
      ],
      "metadata": {
        "id": "WBRt8Ceknswo"
      }
    },
    {
      "cell_type": "code",
      "source": [
        "# compute the loss over the test set predictions\n",
        "test_loss = trainer.test(model, dataloaders=test_loader)"
      ],
      "metadata": {
        "id": "rKwCrkKEBOhe"
      },
      "execution_count": null,
      "outputs": []
    },
    {
      "cell_type": "code",
      "source": [
        "# get model predictions over the test set\n",
        "predictions = trainer.predict(model, dataloaders=test_loader)"
      ],
      "metadata": {
        "id": "oYMBpAIKBzNe"
      },
      "execution_count": null,
      "outputs": []
    },
    {
      "cell_type": "code",
      "execution_count": null,
      "metadata": {
        "id": "aA_x6Tub6olY"
      },
      "outputs": [],
      "source": [
        "# plot some predictions\n",
        "n = 10\n",
        "plt.figure(figsize=(80, 20))\n",
        "for i in range(n):\n",
        "    item = test_set.__getitem__(i)\n",
        "    # display clean_img\n",
        "    ax = plt.subplot(2, n, i + 1)\n",
        "    plt.title(\"clean\")\n",
        "    plt.imshow(item[1].permute((1, 2, 0)))\n",
        "    ax.get_xaxis().set_visible(False)\n",
        "    ax.get_yaxis().set_visible(False)\n",
        "\n",
        "    # display reconstruction\n",
        "    bx = plt.subplot(2, n, i + n + 1)\n",
        "    plt.title(\"reconstructed\")\n",
        "    plt.imshow(predictions[0][i].permute((1, 2, 0)))\n",
        "    bx.get_xaxis().set_visible(False)\n",
        "    bx.get_yaxis().set_visible(False)\n",
        "plt.show()"
      ]
    },
    {
      "cell_type": "markdown",
      "source": [
        "## Load model from checkpoint"
      ],
      "metadata": {
        "id": "T3joCmPASlKO"
      }
    },
    {
      "cell_type": "code",
      "source": [
        "model = AutoEncoder()\n",
        "model.load_from_checkpoint(checkpoint_path=\"/content/gdrive/MyDrive/Depixelizer/model/last.ckpt\")\n",
        "summary(model)"
      ],
      "metadata": {
        "id": "xnu9pPBfSn3f"
      },
      "execution_count": null,
      "outputs": []
    },
    {
      "cell_type": "markdown",
      "source": [
        "## Single example predict_fn (Serve mode)"
      ],
      "metadata": {
        "id": "xRqoefYRGydn"
      }
    },
    {
      "cell_type": "code",
      "source": [
        "def predict_example(model:pl.LightningModule, e:np.array):\n",
        "  transform =torchvision.transforms.Compose([\n",
        "                                              torchvision.transforms.ToTensor(),     \n",
        "                                              torchvision.transforms.Resize((img_height, img_width)),\n",
        "                                              torchvision.transforms.Normalize((0.5,),(0.5,)),\n",
        "    ])\n",
        "  \n",
        "  x = transform(e)\n",
        "  # Tensor\n",
        "\n",
        "  # Add batch dimension\n",
        "  x = x.unsqueeze(0)\n",
        "  # 1 x 3 x 64 x 256\n",
        "\n",
        "  return model(x)[0]\n"
      ],
      "metadata": {
        "id": "QA5L4ezgG1Zf"
      },
      "execution_count": null,
      "outputs": []
    },
    {
      "cell_type": "code",
      "source": [
        "plt.imshow(torch.tensor(clean[0]))"
      ],
      "metadata": {
        "id": "gtuM-y4NH78z"
      },
      "execution_count": null,
      "outputs": []
    },
    {
      "cell_type": "code",
      "source": [
        "predicted_example = predict_example(e=clean[0], model=model)\n",
        "plt.imshow(predicted_example.detach().permute((1, 2, 0)))"
      ],
      "metadata": {
        "id": "AMhLWqaAHhmI"
      },
      "execution_count": null,
      "outputs": []
    },
    {
      "cell_type": "code",
      "source": [
        ""
      ],
      "metadata": {
        "id": "kEPuEwA5yEsL"
      },
      "execution_count": null,
      "outputs": []
    }
  ],
  "metadata": {
    "accelerator": "GPU",
    "colab": {
      "collapsed_sections": [],
      "name": "Depixelizer.ipynb",
      "provenance": [],
      "authorship_tag": "ABX9TyMB8Bcl27yCjZn5EkB0Jdoj",
      "include_colab_link": true
    },
    "kernelspec": {
      "display_name": "Python 3",
      "name": "python3"
    },
    "language_info": {
      "name": "python"
    },
    "widgets": {
      "application/vnd.jupyter.widget-state+json": {
        "5906cedeb3044bc291a852a382b896fc": {
          "model_module": "@jupyter-widgets/controls",
          "model_name": "HBoxModel",
          "model_module_version": "1.5.0",
          "state": {
            "_view_name": "HBoxView",
            "_dom_classes": [],
            "_model_name": "HBoxModel",
            "_view_module": "@jupyter-widgets/controls",
            "_model_module_version": "1.5.0",
            "_view_count": null,
            "_view_module_version": "1.5.0",
            "box_style": "",
            "layout": "IPY_MODEL_a7b06651864d49818095d04f30b18634",
            "_model_module": "@jupyter-widgets/controls",
            "children": [
              "IPY_MODEL_913cafaac31245739de0a88d6c433ebb",
              "IPY_MODEL_18d6c7e297e44f7bb4f6ef305921220c",
              "IPY_MODEL_22d5e391ba8d4bbb9463e174a074fdfe"
            ]
          }
        },
        "a7b06651864d49818095d04f30b18634": {
          "model_module": "@jupyter-widgets/base",
          "model_name": "LayoutModel",
          "model_module_version": "1.2.0",
          "state": {
            "_view_name": "LayoutView",
            "grid_template_rows": null,
            "right": null,
            "justify_content": null,
            "_view_module": "@jupyter-widgets/base",
            "overflow": null,
            "_model_module_version": "1.2.0",
            "_view_count": null,
            "flex_flow": null,
            "width": null,
            "min_width": null,
            "border": null,
            "align_items": null,
            "bottom": null,
            "_model_module": "@jupyter-widgets/base",
            "top": null,
            "grid_column": null,
            "overflow_y": null,
            "overflow_x": null,
            "grid_auto_flow": null,
            "grid_area": null,
            "grid_template_columns": null,
            "flex": null,
            "_model_name": "LayoutModel",
            "justify_items": null,
            "grid_row": null,
            "max_height": null,
            "align_content": null,
            "visibility": null,
            "align_self": null,
            "height": null,
            "min_height": null,
            "padding": null,
            "grid_auto_rows": null,
            "grid_gap": null,
            "max_width": null,
            "order": null,
            "_view_module_version": "1.2.0",
            "grid_template_areas": null,
            "object_position": null,
            "object_fit": null,
            "grid_auto_columns": null,
            "margin": null,
            "display": null,
            "left": null
          }
        },
        "913cafaac31245739de0a88d6c433ebb": {
          "model_module": "@jupyter-widgets/controls",
          "model_name": "HTMLModel",
          "model_module_version": "1.5.0",
          "state": {
            "_view_name": "HTMLView",
            "style": "IPY_MODEL_e5f31321469b44bab5c919f1ea40eb48",
            "_dom_classes": [],
            "description": "",
            "_model_name": "HTMLModel",
            "placeholder": "​",
            "_view_module": "@jupyter-widgets/controls",
            "_model_module_version": "1.5.0",
            "value": "100%",
            "_view_count": null,
            "_view_module_version": "1.5.0",
            "description_tooltip": null,
            "_model_module": "@jupyter-widgets/controls",
            "layout": "IPY_MODEL_6a89652c8c4b4e7fa5a8138bb8ed08a8"
          }
        },
        "18d6c7e297e44f7bb4f6ef305921220c": {
          "model_module": "@jupyter-widgets/controls",
          "model_name": "FloatProgressModel",
          "model_module_version": "1.5.0",
          "state": {
            "_view_name": "ProgressView",
            "style": "IPY_MODEL_0f794c8087b44a26af06585255b7bceb",
            "_dom_classes": [],
            "description": "",
            "_model_name": "FloatProgressModel",
            "bar_style": "success",
            "max": 20000,
            "_view_module": "@jupyter-widgets/controls",
            "_model_module_version": "1.5.0",
            "value": 20000,
            "_view_count": null,
            "_view_module_version": "1.5.0",
            "orientation": "horizontal",
            "min": 0,
            "description_tooltip": null,
            "_model_module": "@jupyter-widgets/controls",
            "layout": "IPY_MODEL_172aaee031f94193a645116c2b7eeadb"
          }
        },
        "22d5e391ba8d4bbb9463e174a074fdfe": {
          "model_module": "@jupyter-widgets/controls",
          "model_name": "HTMLModel",
          "model_module_version": "1.5.0",
          "state": {
            "_view_name": "HTMLView",
            "style": "IPY_MODEL_83631cf64cde43efa3b0948eaa4c207d",
            "_dom_classes": [],
            "description": "",
            "_model_name": "HTMLModel",
            "placeholder": "​",
            "_view_module": "@jupyter-widgets/controls",
            "_model_module_version": "1.5.0",
            "value": " 20000/20000 [19:04&lt;00:00, 12.80it/s]",
            "_view_count": null,
            "_view_module_version": "1.5.0",
            "description_tooltip": null,
            "_model_module": "@jupyter-widgets/controls",
            "layout": "IPY_MODEL_ad0b3dd3f30e44b4b4a2004321058e61"
          }
        },
        "e5f31321469b44bab5c919f1ea40eb48": {
          "model_module": "@jupyter-widgets/controls",
          "model_name": "DescriptionStyleModel",
          "model_module_version": "1.5.0",
          "state": {
            "_view_name": "StyleView",
            "_model_name": "DescriptionStyleModel",
            "description_width": "",
            "_view_module": "@jupyter-widgets/base",
            "_model_module_version": "1.5.0",
            "_view_count": null,
            "_view_module_version": "1.2.0",
            "_model_module": "@jupyter-widgets/controls"
          }
        },
        "6a89652c8c4b4e7fa5a8138bb8ed08a8": {
          "model_module": "@jupyter-widgets/base",
          "model_name": "LayoutModel",
          "model_module_version": "1.2.0",
          "state": {
            "_view_name": "LayoutView",
            "grid_template_rows": null,
            "right": null,
            "justify_content": null,
            "_view_module": "@jupyter-widgets/base",
            "overflow": null,
            "_model_module_version": "1.2.0",
            "_view_count": null,
            "flex_flow": null,
            "width": null,
            "min_width": null,
            "border": null,
            "align_items": null,
            "bottom": null,
            "_model_module": "@jupyter-widgets/base",
            "top": null,
            "grid_column": null,
            "overflow_y": null,
            "overflow_x": null,
            "grid_auto_flow": null,
            "grid_area": null,
            "grid_template_columns": null,
            "flex": null,
            "_model_name": "LayoutModel",
            "justify_items": null,
            "grid_row": null,
            "max_height": null,
            "align_content": null,
            "visibility": null,
            "align_self": null,
            "height": null,
            "min_height": null,
            "padding": null,
            "grid_auto_rows": null,
            "grid_gap": null,
            "max_width": null,
            "order": null,
            "_view_module_version": "1.2.0",
            "grid_template_areas": null,
            "object_position": null,
            "object_fit": null,
            "grid_auto_columns": null,
            "margin": null,
            "display": null,
            "left": null
          }
        },
        "0f794c8087b44a26af06585255b7bceb": {
          "model_module": "@jupyter-widgets/controls",
          "model_name": "ProgressStyleModel",
          "model_module_version": "1.5.0",
          "state": {
            "_view_name": "StyleView",
            "_model_name": "ProgressStyleModel",
            "description_width": "",
            "_view_module": "@jupyter-widgets/base",
            "_model_module_version": "1.5.0",
            "_view_count": null,
            "_view_module_version": "1.2.0",
            "bar_color": null,
            "_model_module": "@jupyter-widgets/controls"
          }
        },
        "172aaee031f94193a645116c2b7eeadb": {
          "model_module": "@jupyter-widgets/base",
          "model_name": "LayoutModel",
          "model_module_version": "1.2.0",
          "state": {
            "_view_name": "LayoutView",
            "grid_template_rows": null,
            "right": null,
            "justify_content": null,
            "_view_module": "@jupyter-widgets/base",
            "overflow": null,
            "_model_module_version": "1.2.0",
            "_view_count": null,
            "flex_flow": null,
            "width": null,
            "min_width": null,
            "border": null,
            "align_items": null,
            "bottom": null,
            "_model_module": "@jupyter-widgets/base",
            "top": null,
            "grid_column": null,
            "overflow_y": null,
            "overflow_x": null,
            "grid_auto_flow": null,
            "grid_area": null,
            "grid_template_columns": null,
            "flex": null,
            "_model_name": "LayoutModel",
            "justify_items": null,
            "grid_row": null,
            "max_height": null,
            "align_content": null,
            "visibility": null,
            "align_self": null,
            "height": null,
            "min_height": null,
            "padding": null,
            "grid_auto_rows": null,
            "grid_gap": null,
            "max_width": null,
            "order": null,
            "_view_module_version": "1.2.0",
            "grid_template_areas": null,
            "object_position": null,
            "object_fit": null,
            "grid_auto_columns": null,
            "margin": null,
            "display": null,
            "left": null
          }
        },
        "83631cf64cde43efa3b0948eaa4c207d": {
          "model_module": "@jupyter-widgets/controls",
          "model_name": "DescriptionStyleModel",
          "model_module_version": "1.5.0",
          "state": {
            "_view_name": "StyleView",
            "_model_name": "DescriptionStyleModel",
            "description_width": "",
            "_view_module": "@jupyter-widgets/base",
            "_model_module_version": "1.5.0",
            "_view_count": null,
            "_view_module_version": "1.2.0",
            "_model_module": "@jupyter-widgets/controls"
          }
        },
        "ad0b3dd3f30e44b4b4a2004321058e61": {
          "model_module": "@jupyter-widgets/base",
          "model_name": "LayoutModel",
          "model_module_version": "1.2.0",
          "state": {
            "_view_name": "LayoutView",
            "grid_template_rows": null,
            "right": null,
            "justify_content": null,
            "_view_module": "@jupyter-widgets/base",
            "overflow": null,
            "_model_module_version": "1.2.0",
            "_view_count": null,
            "flex_flow": null,
            "width": null,
            "min_width": null,
            "border": null,
            "align_items": null,
            "bottom": null,
            "_model_module": "@jupyter-widgets/base",
            "top": null,
            "grid_column": null,
            "overflow_y": null,
            "overflow_x": null,
            "grid_auto_flow": null,
            "grid_area": null,
            "grid_template_columns": null,
            "flex": null,
            "_model_name": "LayoutModel",
            "justify_items": null,
            "grid_row": null,
            "max_height": null,
            "align_content": null,
            "visibility": null,
            "align_self": null,
            "height": null,
            "min_height": null,
            "padding": null,
            "grid_auto_rows": null,
            "grid_gap": null,
            "max_width": null,
            "order": null,
            "_view_module_version": "1.2.0",
            "grid_template_areas": null,
            "object_position": null,
            "object_fit": null,
            "grid_auto_columns": null,
            "margin": null,
            "display": null,
            "left": null
          }
        },
        "ae5ba9d73fc14c43b614e1dac3dab911": {
          "model_module": "@jupyter-widgets/controls",
          "model_name": "HBoxModel",
          "model_module_version": "1.5.0",
          "state": {
            "_view_name": "HBoxView",
            "_dom_classes": [],
            "_model_name": "HBoxModel",
            "_view_module": "@jupyter-widgets/controls",
            "_model_module_version": "1.5.0",
            "_view_count": null,
            "_view_module_version": "1.5.0",
            "box_style": "",
            "layout": "IPY_MODEL_dac2cc93dd3d4bb8af1a58cbcb31ecd8",
            "_model_module": "@jupyter-widgets/controls",
            "children": [
              "IPY_MODEL_95d66c393f93415d95f76ca57cbdac70",
              "IPY_MODEL_e313050d7c8044bd9f6dafa62c7345a2",
              "IPY_MODEL_8f860c020745447fa9262347ee00e06b"
            ]
          }
        },
        "dac2cc93dd3d4bb8af1a58cbcb31ecd8": {
          "model_module": "@jupyter-widgets/base",
          "model_name": "LayoutModel",
          "model_module_version": "1.2.0",
          "state": {
            "_view_name": "LayoutView",
            "grid_template_rows": null,
            "right": null,
            "justify_content": null,
            "_view_module": "@jupyter-widgets/base",
            "overflow": null,
            "_model_module_version": "1.2.0",
            "_view_count": null,
            "flex_flow": null,
            "width": null,
            "min_width": null,
            "border": null,
            "align_items": null,
            "bottom": null,
            "_model_module": "@jupyter-widgets/base",
            "top": null,
            "grid_column": null,
            "overflow_y": null,
            "overflow_x": null,
            "grid_auto_flow": null,
            "grid_area": null,
            "grid_template_columns": null,
            "flex": null,
            "_model_name": "LayoutModel",
            "justify_items": null,
            "grid_row": null,
            "max_height": null,
            "align_content": null,
            "visibility": null,
            "align_self": null,
            "height": null,
            "min_height": null,
            "padding": null,
            "grid_auto_rows": null,
            "grid_gap": null,
            "max_width": null,
            "order": null,
            "_view_module_version": "1.2.0",
            "grid_template_areas": null,
            "object_position": null,
            "object_fit": null,
            "grid_auto_columns": null,
            "margin": null,
            "display": null,
            "left": null
          }
        },
        "95d66c393f93415d95f76ca57cbdac70": {
          "model_module": "@jupyter-widgets/controls",
          "model_name": "HTMLModel",
          "model_module_version": "1.5.0",
          "state": {
            "_view_name": "HTMLView",
            "style": "IPY_MODEL_fab0bbc00ca644afa6f3cc0d1d3a4d9c",
            "_dom_classes": [],
            "description": "",
            "_model_name": "HTMLModel",
            "placeholder": "​",
            "_view_module": "@jupyter-widgets/controls",
            "_model_module_version": "1.5.0",
            "value": "100%",
            "_view_count": null,
            "_view_module_version": "1.5.0",
            "description_tooltip": null,
            "_model_module": "@jupyter-widgets/controls",
            "layout": "IPY_MODEL_fcabc9334e424fffafc94ca56c2ca5ac"
          }
        },
        "e313050d7c8044bd9f6dafa62c7345a2": {
          "model_module": "@jupyter-widgets/controls",
          "model_name": "FloatProgressModel",
          "model_module_version": "1.5.0",
          "state": {
            "_view_name": "ProgressView",
            "style": "IPY_MODEL_ebd35728c2264eb8be107b41495fad80",
            "_dom_classes": [],
            "description": "",
            "_model_name": "FloatProgressModel",
            "bar_style": "success",
            "max": 20000,
            "_view_module": "@jupyter-widgets/controls",
            "_model_module_version": "1.5.0",
            "value": 20000,
            "_view_count": null,
            "_view_module_version": "1.5.0",
            "orientation": "horizontal",
            "min": 0,
            "description_tooltip": null,
            "_model_module": "@jupyter-widgets/controls",
            "layout": "IPY_MODEL_5c8d07cd43364ac3b75795e53ce67c54"
          }
        },
        "8f860c020745447fa9262347ee00e06b": {
          "model_module": "@jupyter-widgets/controls",
          "model_name": "HTMLModel",
          "model_module_version": "1.5.0",
          "state": {
            "_view_name": "HTMLView",
            "style": "IPY_MODEL_38e1545599d34af69402b8ca3b74c490",
            "_dom_classes": [],
            "description": "",
            "_model_name": "HTMLModel",
            "placeholder": "​",
            "_view_module": "@jupyter-widgets/controls",
            "_model_module_version": "1.5.0",
            "value": " 20000/20000 [00:18&lt;00:00, 1123.08it/s]",
            "_view_count": null,
            "_view_module_version": "1.5.0",
            "description_tooltip": null,
            "_model_module": "@jupyter-widgets/controls",
            "layout": "IPY_MODEL_797e1311437b43e2b92f477e8ea5b16d"
          }
        },
        "fab0bbc00ca644afa6f3cc0d1d3a4d9c": {
          "model_module": "@jupyter-widgets/controls",
          "model_name": "DescriptionStyleModel",
          "model_module_version": "1.5.0",
          "state": {
            "_view_name": "StyleView",
            "_model_name": "DescriptionStyleModel",
            "description_width": "",
            "_view_module": "@jupyter-widgets/base",
            "_model_module_version": "1.5.0",
            "_view_count": null,
            "_view_module_version": "1.2.0",
            "_model_module": "@jupyter-widgets/controls"
          }
        },
        "fcabc9334e424fffafc94ca56c2ca5ac": {
          "model_module": "@jupyter-widgets/base",
          "model_name": "LayoutModel",
          "model_module_version": "1.2.0",
          "state": {
            "_view_name": "LayoutView",
            "grid_template_rows": null,
            "right": null,
            "justify_content": null,
            "_view_module": "@jupyter-widgets/base",
            "overflow": null,
            "_model_module_version": "1.2.0",
            "_view_count": null,
            "flex_flow": null,
            "width": null,
            "min_width": null,
            "border": null,
            "align_items": null,
            "bottom": null,
            "_model_module": "@jupyter-widgets/base",
            "top": null,
            "grid_column": null,
            "overflow_y": null,
            "overflow_x": null,
            "grid_auto_flow": null,
            "grid_area": null,
            "grid_template_columns": null,
            "flex": null,
            "_model_name": "LayoutModel",
            "justify_items": null,
            "grid_row": null,
            "max_height": null,
            "align_content": null,
            "visibility": null,
            "align_self": null,
            "height": null,
            "min_height": null,
            "padding": null,
            "grid_auto_rows": null,
            "grid_gap": null,
            "max_width": null,
            "order": null,
            "_view_module_version": "1.2.0",
            "grid_template_areas": null,
            "object_position": null,
            "object_fit": null,
            "grid_auto_columns": null,
            "margin": null,
            "display": null,
            "left": null
          }
        },
        "ebd35728c2264eb8be107b41495fad80": {
          "model_module": "@jupyter-widgets/controls",
          "model_name": "ProgressStyleModel",
          "model_module_version": "1.5.0",
          "state": {
            "_view_name": "StyleView",
            "_model_name": "ProgressStyleModel",
            "description_width": "",
            "_view_module": "@jupyter-widgets/base",
            "_model_module_version": "1.5.0",
            "_view_count": null,
            "_view_module_version": "1.2.0",
            "bar_color": null,
            "_model_module": "@jupyter-widgets/controls"
          }
        },
        "5c8d07cd43364ac3b75795e53ce67c54": {
          "model_module": "@jupyter-widgets/base",
          "model_name": "LayoutModel",
          "model_module_version": "1.2.0",
          "state": {
            "_view_name": "LayoutView",
            "grid_template_rows": null,
            "right": null,
            "justify_content": null,
            "_view_module": "@jupyter-widgets/base",
            "overflow": null,
            "_model_module_version": "1.2.0",
            "_view_count": null,
            "flex_flow": null,
            "width": null,
            "min_width": null,
            "border": null,
            "align_items": null,
            "bottom": null,
            "_model_module": "@jupyter-widgets/base",
            "top": null,
            "grid_column": null,
            "overflow_y": null,
            "overflow_x": null,
            "grid_auto_flow": null,
            "grid_area": null,
            "grid_template_columns": null,
            "flex": null,
            "_model_name": "LayoutModel",
            "justify_items": null,
            "grid_row": null,
            "max_height": null,
            "align_content": null,
            "visibility": null,
            "align_self": null,
            "height": null,
            "min_height": null,
            "padding": null,
            "grid_auto_rows": null,
            "grid_gap": null,
            "max_width": null,
            "order": null,
            "_view_module_version": "1.2.0",
            "grid_template_areas": null,
            "object_position": null,
            "object_fit": null,
            "grid_auto_columns": null,
            "margin": null,
            "display": null,
            "left": null
          }
        },
        "38e1545599d34af69402b8ca3b74c490": {
          "model_module": "@jupyter-widgets/controls",
          "model_name": "DescriptionStyleModel",
          "model_module_version": "1.5.0",
          "state": {
            "_view_name": "StyleView",
            "_model_name": "DescriptionStyleModel",
            "description_width": "",
            "_view_module": "@jupyter-widgets/base",
            "_model_module_version": "1.5.0",
            "_view_count": null,
            "_view_module_version": "1.2.0",
            "_model_module": "@jupyter-widgets/controls"
          }
        },
        "797e1311437b43e2b92f477e8ea5b16d": {
          "model_module": "@jupyter-widgets/base",
          "model_name": "LayoutModel",
          "model_module_version": "1.2.0",
          "state": {
            "_view_name": "LayoutView",
            "grid_template_rows": null,
            "right": null,
            "justify_content": null,
            "_view_module": "@jupyter-widgets/base",
            "overflow": null,
            "_model_module_version": "1.2.0",
            "_view_count": null,
            "flex_flow": null,
            "width": null,
            "min_width": null,
            "border": null,
            "align_items": null,
            "bottom": null,
            "_model_module": "@jupyter-widgets/base",
            "top": null,
            "grid_column": null,
            "overflow_y": null,
            "overflow_x": null,
            "grid_auto_flow": null,
            "grid_area": null,
            "grid_template_columns": null,
            "flex": null,
            "_model_name": "LayoutModel",
            "justify_items": null,
            "grid_row": null,
            "max_height": null,
            "align_content": null,
            "visibility": null,
            "align_self": null,
            "height": null,
            "min_height": null,
            "padding": null,
            "grid_auto_rows": null,
            "grid_gap": null,
            "max_width": null,
            "order": null,
            "_view_module_version": "1.2.0",
            "grid_template_areas": null,
            "object_position": null,
            "object_fit": null,
            "grid_auto_columns": null,
            "margin": null,
            "display": null,
            "left": null
          }
        },
        "477f0ae48e484f9a81c342b13d4d4747": {
          "model_module": "@jupyter-widgets/controls",
          "model_name": "HBoxModel",
          "model_module_version": "1.5.0",
          "state": {
            "_view_name": "HBoxView",
            "_dom_classes": [],
            "_model_name": "HBoxModel",
            "_view_module": "@jupyter-widgets/controls",
            "_model_module_version": "1.5.0",
            "_view_count": null,
            "_view_module_version": "1.5.0",
            "box_style": "",
            "layout": "IPY_MODEL_413dd851f1914089a9f10cd63b190a5d",
            "_model_module": "@jupyter-widgets/controls",
            "children": [
              "IPY_MODEL_60fec336caf743bfb72da52e31cea1cc",
              "IPY_MODEL_62c68b32d8774a2b8354ed1606a594ed",
              "IPY_MODEL_95554dbb89a14a578bf14c66e00d8333"
            ]
          }
        },
        "413dd851f1914089a9f10cd63b190a5d": {
          "model_module": "@jupyter-widgets/base",
          "model_name": "LayoutModel",
          "model_module_version": "1.2.0",
          "state": {
            "_view_name": "LayoutView",
            "grid_template_rows": null,
            "right": null,
            "justify_content": null,
            "_view_module": "@jupyter-widgets/base",
            "overflow": null,
            "_model_module_version": "1.2.0",
            "_view_count": null,
            "flex_flow": "row wrap",
            "width": "100%",
            "min_width": null,
            "border": null,
            "align_items": null,
            "bottom": null,
            "_model_module": "@jupyter-widgets/base",
            "top": null,
            "grid_column": null,
            "overflow_y": null,
            "overflow_x": null,
            "grid_auto_flow": null,
            "grid_area": null,
            "grid_template_columns": null,
            "flex": null,
            "_model_name": "LayoutModel",
            "justify_items": null,
            "grid_row": null,
            "max_height": null,
            "align_content": null,
            "visibility": null,
            "align_self": null,
            "height": null,
            "min_height": null,
            "padding": null,
            "grid_auto_rows": null,
            "grid_gap": null,
            "max_width": null,
            "order": null,
            "_view_module_version": "1.2.0",
            "grid_template_areas": null,
            "object_position": null,
            "object_fit": null,
            "grid_auto_columns": null,
            "margin": null,
            "display": "inline-flex",
            "left": null
          }
        },
        "60fec336caf743bfb72da52e31cea1cc": {
          "model_module": "@jupyter-widgets/controls",
          "model_name": "HTMLModel",
          "model_module_version": "1.5.0",
          "state": {
            "_view_name": "HTMLView",
            "style": "IPY_MODEL_1cd48ae28216403483093e8d356ecdbb",
            "_dom_classes": [],
            "description": "",
            "_model_name": "HTMLModel",
            "placeholder": "​",
            "_view_module": "@jupyter-widgets/controls",
            "_model_module_version": "1.5.0",
            "value": "Validation sanity check: 100%",
            "_view_count": null,
            "_view_module_version": "1.5.0",
            "description_tooltip": null,
            "_model_module": "@jupyter-widgets/controls",
            "layout": "IPY_MODEL_7b26713c874d4fe883834f843ee92757"
          }
        },
        "62c68b32d8774a2b8354ed1606a594ed": {
          "model_module": "@jupyter-widgets/controls",
          "model_name": "FloatProgressModel",
          "model_module_version": "1.5.0",
          "state": {
            "_view_name": "ProgressView",
            "style": "IPY_MODEL_7e743ac405ee45f484e95420e3dbeb19",
            "_dom_classes": [],
            "description": "",
            "_model_name": "FloatProgressModel",
            "bar_style": "",
            "max": 2,
            "_view_module": "@jupyter-widgets/controls",
            "_model_module_version": "1.5.0",
            "value": 2,
            "_view_count": null,
            "_view_module_version": "1.5.0",
            "orientation": "horizontal",
            "min": 0,
            "description_tooltip": null,
            "_model_module": "@jupyter-widgets/controls",
            "layout": "IPY_MODEL_d7bf160beb4445f88d2052ef197f17f1"
          }
        },
        "95554dbb89a14a578bf14c66e00d8333": {
          "model_module": "@jupyter-widgets/controls",
          "model_name": "HTMLModel",
          "model_module_version": "1.5.0",
          "state": {
            "_view_name": "HTMLView",
            "style": "IPY_MODEL_9196cec14b2047b0bf779a59b624c470",
            "_dom_classes": [],
            "description": "",
            "_model_name": "HTMLModel",
            "placeholder": "​",
            "_view_module": "@jupyter-widgets/controls",
            "_model_module_version": "1.5.0",
            "value": " 2/2 [00:00&lt;00:00,  8.22it/s]",
            "_view_count": null,
            "_view_module_version": "1.5.0",
            "description_tooltip": null,
            "_model_module": "@jupyter-widgets/controls",
            "layout": "IPY_MODEL_7ed7d1c814b9449b8663639562afaa0d"
          }
        },
        "1cd48ae28216403483093e8d356ecdbb": {
          "model_module": "@jupyter-widgets/controls",
          "model_name": "DescriptionStyleModel",
          "model_module_version": "1.5.0",
          "state": {
            "_view_name": "StyleView",
            "_model_name": "DescriptionStyleModel",
            "description_width": "",
            "_view_module": "@jupyter-widgets/base",
            "_model_module_version": "1.5.0",
            "_view_count": null,
            "_view_module_version": "1.2.0",
            "_model_module": "@jupyter-widgets/controls"
          }
        },
        "7b26713c874d4fe883834f843ee92757": {
          "model_module": "@jupyter-widgets/base",
          "model_name": "LayoutModel",
          "model_module_version": "1.2.0",
          "state": {
            "_view_name": "LayoutView",
            "grid_template_rows": null,
            "right": null,
            "justify_content": null,
            "_view_module": "@jupyter-widgets/base",
            "overflow": null,
            "_model_module_version": "1.2.0",
            "_view_count": null,
            "flex_flow": null,
            "width": null,
            "min_width": null,
            "border": null,
            "align_items": null,
            "bottom": null,
            "_model_module": "@jupyter-widgets/base",
            "top": null,
            "grid_column": null,
            "overflow_y": null,
            "overflow_x": null,
            "grid_auto_flow": null,
            "grid_area": null,
            "grid_template_columns": null,
            "flex": null,
            "_model_name": "LayoutModel",
            "justify_items": null,
            "grid_row": null,
            "max_height": null,
            "align_content": null,
            "visibility": null,
            "align_self": null,
            "height": null,
            "min_height": null,
            "padding": null,
            "grid_auto_rows": null,
            "grid_gap": null,
            "max_width": null,
            "order": null,
            "_view_module_version": "1.2.0",
            "grid_template_areas": null,
            "object_position": null,
            "object_fit": null,
            "grid_auto_columns": null,
            "margin": null,
            "display": null,
            "left": null
          }
        },
        "7e743ac405ee45f484e95420e3dbeb19": {
          "model_module": "@jupyter-widgets/controls",
          "model_name": "ProgressStyleModel",
          "model_module_version": "1.5.0",
          "state": {
            "_view_name": "StyleView",
            "_model_name": "ProgressStyleModel",
            "description_width": "",
            "_view_module": "@jupyter-widgets/base",
            "_model_module_version": "1.5.0",
            "_view_count": null,
            "_view_module_version": "1.2.0",
            "bar_color": null,
            "_model_module": "@jupyter-widgets/controls"
          }
        },
        "d7bf160beb4445f88d2052ef197f17f1": {
          "model_module": "@jupyter-widgets/base",
          "model_name": "LayoutModel",
          "model_module_version": "1.2.0",
          "state": {
            "_view_name": "LayoutView",
            "grid_template_rows": null,
            "right": null,
            "justify_content": null,
            "_view_module": "@jupyter-widgets/base",
            "overflow": null,
            "_model_module_version": "1.2.0",
            "_view_count": null,
            "flex_flow": null,
            "width": null,
            "min_width": null,
            "border": null,
            "align_items": null,
            "bottom": null,
            "_model_module": "@jupyter-widgets/base",
            "top": null,
            "grid_column": null,
            "overflow_y": null,
            "overflow_x": null,
            "grid_auto_flow": null,
            "grid_area": null,
            "grid_template_columns": null,
            "flex": "2",
            "_model_name": "LayoutModel",
            "justify_items": null,
            "grid_row": null,
            "max_height": null,
            "align_content": null,
            "visibility": null,
            "align_self": null,
            "height": null,
            "min_height": null,
            "padding": null,
            "grid_auto_rows": null,
            "grid_gap": null,
            "max_width": null,
            "order": null,
            "_view_module_version": "1.2.0",
            "grid_template_areas": null,
            "object_position": null,
            "object_fit": null,
            "grid_auto_columns": null,
            "margin": null,
            "display": null,
            "left": null
          }
        },
        "9196cec14b2047b0bf779a59b624c470": {
          "model_module": "@jupyter-widgets/controls",
          "model_name": "DescriptionStyleModel",
          "model_module_version": "1.5.0",
          "state": {
            "_view_name": "StyleView",
            "_model_name": "DescriptionStyleModel",
            "description_width": "",
            "_view_module": "@jupyter-widgets/base",
            "_model_module_version": "1.5.0",
            "_view_count": null,
            "_view_module_version": "1.2.0",
            "_model_module": "@jupyter-widgets/controls"
          }
        },
        "7ed7d1c814b9449b8663639562afaa0d": {
          "model_module": "@jupyter-widgets/base",
          "model_name": "LayoutModel",
          "model_module_version": "1.2.0",
          "state": {
            "_view_name": "LayoutView",
            "grid_template_rows": null,
            "right": null,
            "justify_content": null,
            "_view_module": "@jupyter-widgets/base",
            "overflow": null,
            "_model_module_version": "1.2.0",
            "_view_count": null,
            "flex_flow": null,
            "width": null,
            "min_width": null,
            "border": null,
            "align_items": null,
            "bottom": null,
            "_model_module": "@jupyter-widgets/base",
            "top": null,
            "grid_column": null,
            "overflow_y": null,
            "overflow_x": null,
            "grid_auto_flow": null,
            "grid_area": null,
            "grid_template_columns": null,
            "flex": null,
            "_model_name": "LayoutModel",
            "justify_items": null,
            "grid_row": null,
            "max_height": null,
            "align_content": null,
            "visibility": null,
            "align_self": null,
            "height": null,
            "min_height": null,
            "padding": null,
            "grid_auto_rows": null,
            "grid_gap": null,
            "max_width": null,
            "order": null,
            "_view_module_version": "1.2.0",
            "grid_template_areas": null,
            "object_position": null,
            "object_fit": null,
            "grid_auto_columns": null,
            "margin": null,
            "display": null,
            "left": null
          }
        },
        "020fee6e9d7e48ce8e8d4c25c90c08e9": {
          "model_module": "@jupyter-widgets/controls",
          "model_name": "HBoxModel",
          "model_module_version": "1.5.0",
          "state": {
            "_view_name": "HBoxView",
            "_dom_classes": [],
            "_model_name": "HBoxModel",
            "_view_module": "@jupyter-widgets/controls",
            "_model_module_version": "1.5.0",
            "_view_count": null,
            "_view_module_version": "1.5.0",
            "box_style": "",
            "layout": "IPY_MODEL_8cf725f240ae4391bb4435aa9684a723",
            "_model_module": "@jupyter-widgets/controls",
            "children": [
              "IPY_MODEL_648fe8f0f35f44b68b6153a950c404d2",
              "IPY_MODEL_4460ef175d6f4478933987e9149e3f18",
              "IPY_MODEL_a0f20340e25449a889b582d6ba8ec158"
            ]
          }
        },
        "8cf725f240ae4391bb4435aa9684a723": {
          "model_module": "@jupyter-widgets/base",
          "model_name": "LayoutModel",
          "model_module_version": "1.2.0",
          "state": {
            "_view_name": "LayoutView",
            "grid_template_rows": null,
            "right": null,
            "justify_content": null,
            "_view_module": "@jupyter-widgets/base",
            "overflow": null,
            "_model_module_version": "1.2.0",
            "_view_count": null,
            "flex_flow": "row wrap",
            "width": "100%",
            "min_width": null,
            "border": null,
            "align_items": null,
            "bottom": null,
            "_model_module": "@jupyter-widgets/base",
            "top": null,
            "grid_column": null,
            "overflow_y": null,
            "overflow_x": null,
            "grid_auto_flow": null,
            "grid_area": null,
            "grid_template_columns": null,
            "flex": null,
            "_model_name": "LayoutModel",
            "justify_items": null,
            "grid_row": null,
            "max_height": null,
            "align_content": null,
            "visibility": null,
            "align_self": null,
            "height": null,
            "min_height": null,
            "padding": null,
            "grid_auto_rows": null,
            "grid_gap": null,
            "max_width": null,
            "order": null,
            "_view_module_version": "1.2.0",
            "grid_template_areas": null,
            "object_position": null,
            "object_fit": null,
            "grid_auto_columns": null,
            "margin": null,
            "display": "inline-flex",
            "left": null
          }
        },
        "648fe8f0f35f44b68b6153a950c404d2": {
          "model_module": "@jupyter-widgets/controls",
          "model_name": "HTMLModel",
          "model_module_version": "1.5.0",
          "state": {
            "_view_name": "HTMLView",
            "style": "IPY_MODEL_f44064f92c904b24a4cee21baa2b8b64",
            "_dom_classes": [],
            "description": "",
            "_model_name": "HTMLModel",
            "placeholder": "​",
            "_view_module": "@jupyter-widgets/controls",
            "_model_module_version": "1.5.0",
            "value": "Epoch 3:   0%",
            "_view_count": null,
            "_view_module_version": "1.5.0",
            "description_tooltip": null,
            "_model_module": "@jupyter-widgets/controls",
            "layout": "IPY_MODEL_c8d7e4abc1964c34b6b05503d2861def"
          }
        },
        "4460ef175d6f4478933987e9149e3f18": {
          "model_module": "@jupyter-widgets/controls",
          "model_name": "FloatProgressModel",
          "model_module_version": "1.5.0",
          "state": {
            "_view_name": "ProgressView",
            "style": "IPY_MODEL_b9151315fc4449c3ae5bf1baa382b830",
            "_dom_classes": [],
            "description": "",
            "_model_name": "FloatProgressModel",
            "bar_style": "",
            "max": 601,
            "_view_module": "@jupyter-widgets/controls",
            "_model_module_version": "1.5.0",
            "value": 0,
            "_view_count": null,
            "_view_module_version": "1.5.0",
            "orientation": "horizontal",
            "min": 0,
            "description_tooltip": null,
            "_model_module": "@jupyter-widgets/controls",
            "layout": "IPY_MODEL_33f58fe21a954cd2bd65871794217411"
          }
        },
        "a0f20340e25449a889b582d6ba8ec158": {
          "model_module": "@jupyter-widgets/controls",
          "model_name": "HTMLModel",
          "model_module_version": "1.5.0",
          "state": {
            "_view_name": "HTMLView",
            "style": "IPY_MODEL_771bda53324c4f5b92047ed8d0dacc5a",
            "_dom_classes": [],
            "description": "",
            "_model_name": "HTMLModel",
            "placeholder": "​",
            "_view_module": "@jupyter-widgets/controls",
            "_model_module_version": "1.5.0",
            "value": " 0/601 [00:00&lt;?, ?it/s, loss=0.0578, v_num=0]",
            "_view_count": null,
            "_view_module_version": "1.5.0",
            "description_tooltip": null,
            "_model_module": "@jupyter-widgets/controls",
            "layout": "IPY_MODEL_c124136b2201444e89912d94b5fae258"
          }
        },
        "f44064f92c904b24a4cee21baa2b8b64": {
          "model_module": "@jupyter-widgets/controls",
          "model_name": "DescriptionStyleModel",
          "model_module_version": "1.5.0",
          "state": {
            "_view_name": "StyleView",
            "_model_name": "DescriptionStyleModel",
            "description_width": "",
            "_view_module": "@jupyter-widgets/base",
            "_model_module_version": "1.5.0",
            "_view_count": null,
            "_view_module_version": "1.2.0",
            "_model_module": "@jupyter-widgets/controls"
          }
        },
        "c8d7e4abc1964c34b6b05503d2861def": {
          "model_module": "@jupyter-widgets/base",
          "model_name": "LayoutModel",
          "model_module_version": "1.2.0",
          "state": {
            "_view_name": "LayoutView",
            "grid_template_rows": null,
            "right": null,
            "justify_content": null,
            "_view_module": "@jupyter-widgets/base",
            "overflow": null,
            "_model_module_version": "1.2.0",
            "_view_count": null,
            "flex_flow": null,
            "width": null,
            "min_width": null,
            "border": null,
            "align_items": null,
            "bottom": null,
            "_model_module": "@jupyter-widgets/base",
            "top": null,
            "grid_column": null,
            "overflow_y": null,
            "overflow_x": null,
            "grid_auto_flow": null,
            "grid_area": null,
            "grid_template_columns": null,
            "flex": null,
            "_model_name": "LayoutModel",
            "justify_items": null,
            "grid_row": null,
            "max_height": null,
            "align_content": null,
            "visibility": null,
            "align_self": null,
            "height": null,
            "min_height": null,
            "padding": null,
            "grid_auto_rows": null,
            "grid_gap": null,
            "max_width": null,
            "order": null,
            "_view_module_version": "1.2.0",
            "grid_template_areas": null,
            "object_position": null,
            "object_fit": null,
            "grid_auto_columns": null,
            "margin": null,
            "display": null,
            "left": null
          }
        },
        "b9151315fc4449c3ae5bf1baa382b830": {
          "model_module": "@jupyter-widgets/controls",
          "model_name": "ProgressStyleModel",
          "model_module_version": "1.5.0",
          "state": {
            "_view_name": "StyleView",
            "_model_name": "ProgressStyleModel",
            "description_width": "",
            "_view_module": "@jupyter-widgets/base",
            "_model_module_version": "1.5.0",
            "_view_count": null,
            "_view_module_version": "1.2.0",
            "bar_color": null,
            "_model_module": "@jupyter-widgets/controls"
          }
        },
        "33f58fe21a954cd2bd65871794217411": {
          "model_module": "@jupyter-widgets/base",
          "model_name": "LayoutModel",
          "model_module_version": "1.2.0",
          "state": {
            "_view_name": "LayoutView",
            "grid_template_rows": null,
            "right": null,
            "justify_content": null,
            "_view_module": "@jupyter-widgets/base",
            "overflow": null,
            "_model_module_version": "1.2.0",
            "_view_count": null,
            "flex_flow": null,
            "width": null,
            "min_width": null,
            "border": null,
            "align_items": null,
            "bottom": null,
            "_model_module": "@jupyter-widgets/base",
            "top": null,
            "grid_column": null,
            "overflow_y": null,
            "overflow_x": null,
            "grid_auto_flow": null,
            "grid_area": null,
            "grid_template_columns": null,
            "flex": "2",
            "_model_name": "LayoutModel",
            "justify_items": null,
            "grid_row": null,
            "max_height": null,
            "align_content": null,
            "visibility": null,
            "align_self": null,
            "height": null,
            "min_height": null,
            "padding": null,
            "grid_auto_rows": null,
            "grid_gap": null,
            "max_width": null,
            "order": null,
            "_view_module_version": "1.2.0",
            "grid_template_areas": null,
            "object_position": null,
            "object_fit": null,
            "grid_auto_columns": null,
            "margin": null,
            "display": null,
            "left": null
          }
        },
        "771bda53324c4f5b92047ed8d0dacc5a": {
          "model_module": "@jupyter-widgets/controls",
          "model_name": "DescriptionStyleModel",
          "model_module_version": "1.5.0",
          "state": {
            "_view_name": "StyleView",
            "_model_name": "DescriptionStyleModel",
            "description_width": "",
            "_view_module": "@jupyter-widgets/base",
            "_model_module_version": "1.5.0",
            "_view_count": null,
            "_view_module_version": "1.2.0",
            "_model_module": "@jupyter-widgets/controls"
          }
        },
        "c124136b2201444e89912d94b5fae258": {
          "model_module": "@jupyter-widgets/base",
          "model_name": "LayoutModel",
          "model_module_version": "1.2.0",
          "state": {
            "_view_name": "LayoutView",
            "grid_template_rows": null,
            "right": null,
            "justify_content": null,
            "_view_module": "@jupyter-widgets/base",
            "overflow": null,
            "_model_module_version": "1.2.0",
            "_view_count": null,
            "flex_flow": null,
            "width": null,
            "min_width": null,
            "border": null,
            "align_items": null,
            "bottom": null,
            "_model_module": "@jupyter-widgets/base",
            "top": null,
            "grid_column": null,
            "overflow_y": null,
            "overflow_x": null,
            "grid_auto_flow": null,
            "grid_area": null,
            "grid_template_columns": null,
            "flex": null,
            "_model_name": "LayoutModel",
            "justify_items": null,
            "grid_row": null,
            "max_height": null,
            "align_content": null,
            "visibility": null,
            "align_self": null,
            "height": null,
            "min_height": null,
            "padding": null,
            "grid_auto_rows": null,
            "grid_gap": null,
            "max_width": null,
            "order": null,
            "_view_module_version": "1.2.0",
            "grid_template_areas": null,
            "object_position": null,
            "object_fit": null,
            "grid_auto_columns": null,
            "margin": null,
            "display": null,
            "left": null
          }
        },
        "72a3f1e3cd624c40a57d282e5d5f1691": {
          "model_module": "@jupyter-widgets/controls",
          "model_name": "HBoxModel",
          "model_module_version": "1.5.0",
          "state": {
            "_view_name": "HBoxView",
            "_dom_classes": [],
            "_model_name": "HBoxModel",
            "_view_module": "@jupyter-widgets/controls",
            "_model_module_version": "1.5.0",
            "_view_count": null,
            "_view_module_version": "1.5.0",
            "box_style": "",
            "layout": "IPY_MODEL_9546e38fc1de43f88955f7dec541882e",
            "_model_module": "@jupyter-widgets/controls",
            "children": [
              "IPY_MODEL_4adba77a39814db5943cd592df7b2d77",
              "IPY_MODEL_bdcba329e49a4b718ff6a56dd687c2d5",
              "IPY_MODEL_0d04fb48046944fbb1d168e1b05076f3"
            ]
          }
        },
        "9546e38fc1de43f88955f7dec541882e": {
          "model_module": "@jupyter-widgets/base",
          "model_name": "LayoutModel",
          "model_module_version": "1.2.0",
          "state": {
            "_view_name": "LayoutView",
            "grid_template_rows": null,
            "right": null,
            "justify_content": null,
            "_view_module": "@jupyter-widgets/base",
            "overflow": null,
            "_model_module_version": "1.2.0",
            "_view_count": null,
            "flex_flow": "row wrap",
            "width": "100%",
            "min_width": null,
            "border": null,
            "align_items": null,
            "bottom": null,
            "_model_module": "@jupyter-widgets/base",
            "top": null,
            "grid_column": null,
            "overflow_y": null,
            "overflow_x": null,
            "grid_auto_flow": null,
            "grid_area": null,
            "grid_template_columns": null,
            "flex": null,
            "_model_name": "LayoutModel",
            "justify_items": null,
            "grid_row": null,
            "max_height": null,
            "align_content": null,
            "visibility": null,
            "align_self": null,
            "height": null,
            "min_height": null,
            "padding": null,
            "grid_auto_rows": null,
            "grid_gap": null,
            "max_width": null,
            "order": null,
            "_view_module_version": "1.2.0",
            "grid_template_areas": null,
            "object_position": null,
            "object_fit": null,
            "grid_auto_columns": null,
            "margin": null,
            "display": "inline-flex",
            "left": null
          }
        },
        "4adba77a39814db5943cd592df7b2d77": {
          "model_module": "@jupyter-widgets/controls",
          "model_name": "HTMLModel",
          "model_module_version": "1.5.0",
          "state": {
            "_view_name": "HTMLView",
            "style": "IPY_MODEL_47955a87d7134fa1b7443e4e0b26f5e1",
            "_dom_classes": [],
            "description": "",
            "_model_name": "HTMLModel",
            "placeholder": "​",
            "_view_module": "@jupyter-widgets/controls",
            "_model_module_version": "1.5.0",
            "value": "Validating: 100%",
            "_view_count": null,
            "_view_module_version": "1.5.0",
            "description_tooltip": null,
            "_model_module": "@jupyter-widgets/controls",
            "layout": "IPY_MODEL_ef13288b8b3d4a27bd2fc4d2d1c12233"
          }
        },
        "bdcba329e49a4b718ff6a56dd687c2d5": {
          "model_module": "@jupyter-widgets/controls",
          "model_name": "FloatProgressModel",
          "model_module_version": "1.5.0",
          "state": {
            "_view_name": "ProgressView",
            "style": "IPY_MODEL_c8b6cc686b344ac0b1bc27267505a10a",
            "_dom_classes": [],
            "description": "",
            "_model_name": "FloatProgressModel",
            "bar_style": "",
            "max": 38,
            "_view_module": "@jupyter-widgets/controls",
            "_model_module_version": "1.5.0",
            "value": 38,
            "_view_count": null,
            "_view_module_version": "1.5.0",
            "orientation": "horizontal",
            "min": 0,
            "description_tooltip": null,
            "_model_module": "@jupyter-widgets/controls",
            "layout": "IPY_MODEL_d9e2a32a96474137bede3cbce41964f1"
          }
        },
        "0d04fb48046944fbb1d168e1b05076f3": {
          "model_module": "@jupyter-widgets/controls",
          "model_name": "HTMLModel",
          "model_module_version": "1.5.0",
          "state": {
            "_view_name": "HTMLView",
            "style": "IPY_MODEL_7a99708082c14bd29dc137b44b997646",
            "_dom_classes": [],
            "description": "",
            "_model_name": "HTMLModel",
            "placeholder": "​",
            "_view_module": "@jupyter-widgets/controls",
            "_model_module_version": "1.5.0",
            "value": " 38/38 [00:02&lt;00:00, 16.50it/s]",
            "_view_count": null,
            "_view_module_version": "1.5.0",
            "description_tooltip": null,
            "_model_module": "@jupyter-widgets/controls",
            "layout": "IPY_MODEL_fe4c0740bd9745c5b35d370287a3c4c2"
          }
        },
        "47955a87d7134fa1b7443e4e0b26f5e1": {
          "model_module": "@jupyter-widgets/controls",
          "model_name": "DescriptionStyleModel",
          "model_module_version": "1.5.0",
          "state": {
            "_view_name": "StyleView",
            "_model_name": "DescriptionStyleModel",
            "description_width": "",
            "_view_module": "@jupyter-widgets/base",
            "_model_module_version": "1.5.0",
            "_view_count": null,
            "_view_module_version": "1.2.0",
            "_model_module": "@jupyter-widgets/controls"
          }
        },
        "ef13288b8b3d4a27bd2fc4d2d1c12233": {
          "model_module": "@jupyter-widgets/base",
          "model_name": "LayoutModel",
          "model_module_version": "1.2.0",
          "state": {
            "_view_name": "LayoutView",
            "grid_template_rows": null,
            "right": null,
            "justify_content": null,
            "_view_module": "@jupyter-widgets/base",
            "overflow": null,
            "_model_module_version": "1.2.0",
            "_view_count": null,
            "flex_flow": null,
            "width": null,
            "min_width": null,
            "border": null,
            "align_items": null,
            "bottom": null,
            "_model_module": "@jupyter-widgets/base",
            "top": null,
            "grid_column": null,
            "overflow_y": null,
            "overflow_x": null,
            "grid_auto_flow": null,
            "grid_area": null,
            "grid_template_columns": null,
            "flex": null,
            "_model_name": "LayoutModel",
            "justify_items": null,
            "grid_row": null,
            "max_height": null,
            "align_content": null,
            "visibility": null,
            "align_self": null,
            "height": null,
            "min_height": null,
            "padding": null,
            "grid_auto_rows": null,
            "grid_gap": null,
            "max_width": null,
            "order": null,
            "_view_module_version": "1.2.0",
            "grid_template_areas": null,
            "object_position": null,
            "object_fit": null,
            "grid_auto_columns": null,
            "margin": null,
            "display": null,
            "left": null
          }
        },
        "c8b6cc686b344ac0b1bc27267505a10a": {
          "model_module": "@jupyter-widgets/controls",
          "model_name": "ProgressStyleModel",
          "model_module_version": "1.5.0",
          "state": {
            "_view_name": "StyleView",
            "_model_name": "ProgressStyleModel",
            "description_width": "",
            "_view_module": "@jupyter-widgets/base",
            "_model_module_version": "1.5.0",
            "_view_count": null,
            "_view_module_version": "1.2.0",
            "bar_color": null,
            "_model_module": "@jupyter-widgets/controls"
          }
        },
        "d9e2a32a96474137bede3cbce41964f1": {
          "model_module": "@jupyter-widgets/base",
          "model_name": "LayoutModel",
          "model_module_version": "1.2.0",
          "state": {
            "_view_name": "LayoutView",
            "grid_template_rows": null,
            "right": null,
            "justify_content": null,
            "_view_module": "@jupyter-widgets/base",
            "overflow": null,
            "_model_module_version": "1.2.0",
            "_view_count": null,
            "flex_flow": null,
            "width": null,
            "min_width": null,
            "border": null,
            "align_items": null,
            "bottom": null,
            "_model_module": "@jupyter-widgets/base",
            "top": null,
            "grid_column": null,
            "overflow_y": null,
            "overflow_x": null,
            "grid_auto_flow": null,
            "grid_area": null,
            "grid_template_columns": null,
            "flex": "2",
            "_model_name": "LayoutModel",
            "justify_items": null,
            "grid_row": null,
            "max_height": null,
            "align_content": null,
            "visibility": null,
            "align_self": null,
            "height": null,
            "min_height": null,
            "padding": null,
            "grid_auto_rows": null,
            "grid_gap": null,
            "max_width": null,
            "order": null,
            "_view_module_version": "1.2.0",
            "grid_template_areas": null,
            "object_position": null,
            "object_fit": null,
            "grid_auto_columns": null,
            "margin": null,
            "display": null,
            "left": null
          }
        },
        "7a99708082c14bd29dc137b44b997646": {
          "model_module": "@jupyter-widgets/controls",
          "model_name": "DescriptionStyleModel",
          "model_module_version": "1.5.0",
          "state": {
            "_view_name": "StyleView",
            "_model_name": "DescriptionStyleModel",
            "description_width": "",
            "_view_module": "@jupyter-widgets/base",
            "_model_module_version": "1.5.0",
            "_view_count": null,
            "_view_module_version": "1.2.0",
            "_model_module": "@jupyter-widgets/controls"
          }
        },
        "fe4c0740bd9745c5b35d370287a3c4c2": {
          "model_module": "@jupyter-widgets/base",
          "model_name": "LayoutModel",
          "model_module_version": "1.2.0",
          "state": {
            "_view_name": "LayoutView",
            "grid_template_rows": null,
            "right": null,
            "justify_content": null,
            "_view_module": "@jupyter-widgets/base",
            "overflow": null,
            "_model_module_version": "1.2.0",
            "_view_count": null,
            "flex_flow": null,
            "width": null,
            "min_width": null,
            "border": null,
            "align_items": null,
            "bottom": null,
            "_model_module": "@jupyter-widgets/base",
            "top": null,
            "grid_column": null,
            "overflow_y": null,
            "overflow_x": null,
            "grid_auto_flow": null,
            "grid_area": null,
            "grid_template_columns": null,
            "flex": null,
            "_model_name": "LayoutModel",
            "justify_items": null,
            "grid_row": null,
            "max_height": null,
            "align_content": null,
            "visibility": null,
            "align_self": null,
            "height": null,
            "min_height": null,
            "padding": null,
            "grid_auto_rows": null,
            "grid_gap": null,
            "max_width": null,
            "order": null,
            "_view_module_version": "1.2.0",
            "grid_template_areas": null,
            "object_position": null,
            "object_fit": null,
            "grid_auto_columns": null,
            "margin": null,
            "display": null,
            "left": null
          }
        },
        "aa6cd1c943a74d3fa880d01ef2b74100": {
          "model_module": "@jupyter-widgets/controls",
          "model_name": "HBoxModel",
          "model_module_version": "1.5.0",
          "state": {
            "_view_name": "HBoxView",
            "_dom_classes": [],
            "_model_name": "HBoxModel",
            "_view_module": "@jupyter-widgets/controls",
            "_model_module_version": "1.5.0",
            "_view_count": null,
            "_view_module_version": "1.5.0",
            "box_style": "",
            "layout": "IPY_MODEL_87b07f5fe25349769a951389407bed55",
            "_model_module": "@jupyter-widgets/controls",
            "children": [
              "IPY_MODEL_cc42de57198c4a9ca20fc14c42c74b7e",
              "IPY_MODEL_701086b332ee40b48459e9d41c320b9f",
              "IPY_MODEL_399737368e494fb38a0e4a2f786b4401"
            ]
          }
        },
        "87b07f5fe25349769a951389407bed55": {
          "model_module": "@jupyter-widgets/base",
          "model_name": "LayoutModel",
          "model_module_version": "1.2.0",
          "state": {
            "_view_name": "LayoutView",
            "grid_template_rows": null,
            "right": null,
            "justify_content": null,
            "_view_module": "@jupyter-widgets/base",
            "overflow": null,
            "_model_module_version": "1.2.0",
            "_view_count": null,
            "flex_flow": "row wrap",
            "width": "100%",
            "min_width": null,
            "border": null,
            "align_items": null,
            "bottom": null,
            "_model_module": "@jupyter-widgets/base",
            "top": null,
            "grid_column": null,
            "overflow_y": null,
            "overflow_x": null,
            "grid_auto_flow": null,
            "grid_area": null,
            "grid_template_columns": null,
            "flex": null,
            "_model_name": "LayoutModel",
            "justify_items": null,
            "grid_row": null,
            "max_height": null,
            "align_content": null,
            "visibility": null,
            "align_self": null,
            "height": null,
            "min_height": null,
            "padding": null,
            "grid_auto_rows": null,
            "grid_gap": null,
            "max_width": null,
            "order": null,
            "_view_module_version": "1.2.0",
            "grid_template_areas": null,
            "object_position": null,
            "object_fit": null,
            "grid_auto_columns": null,
            "margin": null,
            "display": "inline-flex",
            "left": null
          }
        },
        "cc42de57198c4a9ca20fc14c42c74b7e": {
          "model_module": "@jupyter-widgets/controls",
          "model_name": "HTMLModel",
          "model_module_version": "1.5.0",
          "state": {
            "_view_name": "HTMLView",
            "style": "IPY_MODEL_701dfde17f454032b1fab471d01fba7b",
            "_dom_classes": [],
            "description": "",
            "_model_name": "HTMLModel",
            "placeholder": "​",
            "_view_module": "@jupyter-widgets/controls",
            "_model_module_version": "1.5.0",
            "value": "Validating: 100%",
            "_view_count": null,
            "_view_module_version": "1.5.0",
            "description_tooltip": null,
            "_model_module": "@jupyter-widgets/controls",
            "layout": "IPY_MODEL_4e6f57a2db854b7082d9fae7016673c3"
          }
        },
        "701086b332ee40b48459e9d41c320b9f": {
          "model_module": "@jupyter-widgets/controls",
          "model_name": "FloatProgressModel",
          "model_module_version": "1.5.0",
          "state": {
            "_view_name": "ProgressView",
            "style": "IPY_MODEL_c5652eb6c04f4eec92ec57dcfb96d8f6",
            "_dom_classes": [],
            "description": "",
            "_model_name": "FloatProgressModel",
            "bar_style": "",
            "max": 38,
            "_view_module": "@jupyter-widgets/controls",
            "_model_module_version": "1.5.0",
            "value": 38,
            "_view_count": null,
            "_view_module_version": "1.5.0",
            "orientation": "horizontal",
            "min": 0,
            "description_tooltip": null,
            "_model_module": "@jupyter-widgets/controls",
            "layout": "IPY_MODEL_aa10bf8c963c436abca3d6c824ce835b"
          }
        },
        "399737368e494fb38a0e4a2f786b4401": {
          "model_module": "@jupyter-widgets/controls",
          "model_name": "HTMLModel",
          "model_module_version": "1.5.0",
          "state": {
            "_view_name": "HTMLView",
            "style": "IPY_MODEL_1d4cdc8c4ed049d384993182460d88a8",
            "_dom_classes": [],
            "description": "",
            "_model_name": "HTMLModel",
            "placeholder": "​",
            "_view_module": "@jupyter-widgets/controls",
            "_model_module_version": "1.5.0",
            "value": " 38/38 [00:02&lt;00:00, 16.34it/s]",
            "_view_count": null,
            "_view_module_version": "1.5.0",
            "description_tooltip": null,
            "_model_module": "@jupyter-widgets/controls",
            "layout": "IPY_MODEL_665beaffc40c4069b1da9d399fa37356"
          }
        },
        "701dfde17f454032b1fab471d01fba7b": {
          "model_module": "@jupyter-widgets/controls",
          "model_name": "DescriptionStyleModel",
          "model_module_version": "1.5.0",
          "state": {
            "_view_name": "StyleView",
            "_model_name": "DescriptionStyleModel",
            "description_width": "",
            "_view_module": "@jupyter-widgets/base",
            "_model_module_version": "1.5.0",
            "_view_count": null,
            "_view_module_version": "1.2.0",
            "_model_module": "@jupyter-widgets/controls"
          }
        },
        "4e6f57a2db854b7082d9fae7016673c3": {
          "model_module": "@jupyter-widgets/base",
          "model_name": "LayoutModel",
          "model_module_version": "1.2.0",
          "state": {
            "_view_name": "LayoutView",
            "grid_template_rows": null,
            "right": null,
            "justify_content": null,
            "_view_module": "@jupyter-widgets/base",
            "overflow": null,
            "_model_module_version": "1.2.0",
            "_view_count": null,
            "flex_flow": null,
            "width": null,
            "min_width": null,
            "border": null,
            "align_items": null,
            "bottom": null,
            "_model_module": "@jupyter-widgets/base",
            "top": null,
            "grid_column": null,
            "overflow_y": null,
            "overflow_x": null,
            "grid_auto_flow": null,
            "grid_area": null,
            "grid_template_columns": null,
            "flex": null,
            "_model_name": "LayoutModel",
            "justify_items": null,
            "grid_row": null,
            "max_height": null,
            "align_content": null,
            "visibility": null,
            "align_self": null,
            "height": null,
            "min_height": null,
            "padding": null,
            "grid_auto_rows": null,
            "grid_gap": null,
            "max_width": null,
            "order": null,
            "_view_module_version": "1.2.0",
            "grid_template_areas": null,
            "object_position": null,
            "object_fit": null,
            "grid_auto_columns": null,
            "margin": null,
            "display": null,
            "left": null
          }
        },
        "c5652eb6c04f4eec92ec57dcfb96d8f6": {
          "model_module": "@jupyter-widgets/controls",
          "model_name": "ProgressStyleModel",
          "model_module_version": "1.5.0",
          "state": {
            "_view_name": "StyleView",
            "_model_name": "ProgressStyleModel",
            "description_width": "",
            "_view_module": "@jupyter-widgets/base",
            "_model_module_version": "1.5.0",
            "_view_count": null,
            "_view_module_version": "1.2.0",
            "bar_color": null,
            "_model_module": "@jupyter-widgets/controls"
          }
        },
        "aa10bf8c963c436abca3d6c824ce835b": {
          "model_module": "@jupyter-widgets/base",
          "model_name": "LayoutModel",
          "model_module_version": "1.2.0",
          "state": {
            "_view_name": "LayoutView",
            "grid_template_rows": null,
            "right": null,
            "justify_content": null,
            "_view_module": "@jupyter-widgets/base",
            "overflow": null,
            "_model_module_version": "1.2.0",
            "_view_count": null,
            "flex_flow": null,
            "width": null,
            "min_width": null,
            "border": null,
            "align_items": null,
            "bottom": null,
            "_model_module": "@jupyter-widgets/base",
            "top": null,
            "grid_column": null,
            "overflow_y": null,
            "overflow_x": null,
            "grid_auto_flow": null,
            "grid_area": null,
            "grid_template_columns": null,
            "flex": "2",
            "_model_name": "LayoutModel",
            "justify_items": null,
            "grid_row": null,
            "max_height": null,
            "align_content": null,
            "visibility": null,
            "align_self": null,
            "height": null,
            "min_height": null,
            "padding": null,
            "grid_auto_rows": null,
            "grid_gap": null,
            "max_width": null,
            "order": null,
            "_view_module_version": "1.2.0",
            "grid_template_areas": null,
            "object_position": null,
            "object_fit": null,
            "grid_auto_columns": null,
            "margin": null,
            "display": null,
            "left": null
          }
        },
        "1d4cdc8c4ed049d384993182460d88a8": {
          "model_module": "@jupyter-widgets/controls",
          "model_name": "DescriptionStyleModel",
          "model_module_version": "1.5.0",
          "state": {
            "_view_name": "StyleView",
            "_model_name": "DescriptionStyleModel",
            "description_width": "",
            "_view_module": "@jupyter-widgets/base",
            "_model_module_version": "1.5.0",
            "_view_count": null,
            "_view_module_version": "1.2.0",
            "_model_module": "@jupyter-widgets/controls"
          }
        },
        "665beaffc40c4069b1da9d399fa37356": {
          "model_module": "@jupyter-widgets/base",
          "model_name": "LayoutModel",
          "model_module_version": "1.2.0",
          "state": {
            "_view_name": "LayoutView",
            "grid_template_rows": null,
            "right": null,
            "justify_content": null,
            "_view_module": "@jupyter-widgets/base",
            "overflow": null,
            "_model_module_version": "1.2.0",
            "_view_count": null,
            "flex_flow": null,
            "width": null,
            "min_width": null,
            "border": null,
            "align_items": null,
            "bottom": null,
            "_model_module": "@jupyter-widgets/base",
            "top": null,
            "grid_column": null,
            "overflow_y": null,
            "overflow_x": null,
            "grid_auto_flow": null,
            "grid_area": null,
            "grid_template_columns": null,
            "flex": null,
            "_model_name": "LayoutModel",
            "justify_items": null,
            "grid_row": null,
            "max_height": null,
            "align_content": null,
            "visibility": null,
            "align_self": null,
            "height": null,
            "min_height": null,
            "padding": null,
            "grid_auto_rows": null,
            "grid_gap": null,
            "max_width": null,
            "order": null,
            "_view_module_version": "1.2.0",
            "grid_template_areas": null,
            "object_position": null,
            "object_fit": null,
            "grid_auto_columns": null,
            "margin": null,
            "display": null,
            "left": null
          }
        },
        "8ff1333dce894851bdbc91a7672221fb": {
          "model_module": "@jupyter-widgets/controls",
          "model_name": "HBoxModel",
          "model_module_version": "1.5.0",
          "state": {
            "_view_name": "HBoxView",
            "_dom_classes": [],
            "_model_name": "HBoxModel",
            "_view_module": "@jupyter-widgets/controls",
            "_model_module_version": "1.5.0",
            "_view_count": null,
            "_view_module_version": "1.5.0",
            "box_style": "",
            "layout": "IPY_MODEL_936755b08bc14027a29a862a9c9a3132",
            "_model_module": "@jupyter-widgets/controls",
            "children": [
              "IPY_MODEL_0c914810101d4bcb97a40baa18abe0df",
              "IPY_MODEL_edccba2e7a33482c9628a9a27ed6a43b",
              "IPY_MODEL_d4f4f2da65e54f21b18fc2b0071bee4a"
            ]
          }
        },
        "936755b08bc14027a29a862a9c9a3132": {
          "model_module": "@jupyter-widgets/base",
          "model_name": "LayoutModel",
          "model_module_version": "1.2.0",
          "state": {
            "_view_name": "LayoutView",
            "grid_template_rows": null,
            "right": null,
            "justify_content": null,
            "_view_module": "@jupyter-widgets/base",
            "overflow": null,
            "_model_module_version": "1.2.0",
            "_view_count": null,
            "flex_flow": "row wrap",
            "width": "100%",
            "min_width": null,
            "border": null,
            "align_items": null,
            "bottom": null,
            "_model_module": "@jupyter-widgets/base",
            "top": null,
            "grid_column": null,
            "overflow_y": null,
            "overflow_x": null,
            "grid_auto_flow": null,
            "grid_area": null,
            "grid_template_columns": null,
            "flex": null,
            "_model_name": "LayoutModel",
            "justify_items": null,
            "grid_row": null,
            "max_height": null,
            "align_content": null,
            "visibility": null,
            "align_self": null,
            "height": null,
            "min_height": null,
            "padding": null,
            "grid_auto_rows": null,
            "grid_gap": null,
            "max_width": null,
            "order": null,
            "_view_module_version": "1.2.0",
            "grid_template_areas": null,
            "object_position": null,
            "object_fit": null,
            "grid_auto_columns": null,
            "margin": null,
            "display": "inline-flex",
            "left": null
          }
        },
        "0c914810101d4bcb97a40baa18abe0df": {
          "model_module": "@jupyter-widgets/controls",
          "model_name": "HTMLModel",
          "model_module_version": "1.5.0",
          "state": {
            "_view_name": "HTMLView",
            "style": "IPY_MODEL_e061839e6bcc435686ec85ca7065e6b0",
            "_dom_classes": [],
            "description": "",
            "_model_name": "HTMLModel",
            "placeholder": "​",
            "_view_module": "@jupyter-widgets/controls",
            "_model_module_version": "1.5.0",
            "value": "Validating: 100%",
            "_view_count": null,
            "_view_module_version": "1.5.0",
            "description_tooltip": null,
            "_model_module": "@jupyter-widgets/controls",
            "layout": "IPY_MODEL_ec3968d67ceb4f53a34d30573dca5a05"
          }
        },
        "edccba2e7a33482c9628a9a27ed6a43b": {
          "model_module": "@jupyter-widgets/controls",
          "model_name": "FloatProgressModel",
          "model_module_version": "1.5.0",
          "state": {
            "_view_name": "ProgressView",
            "style": "IPY_MODEL_cd148a9da59c49d6b7b26246a2135389",
            "_dom_classes": [],
            "description": "",
            "_model_name": "FloatProgressModel",
            "bar_style": "",
            "max": 38,
            "_view_module": "@jupyter-widgets/controls",
            "_model_module_version": "1.5.0",
            "value": 38,
            "_view_count": null,
            "_view_module_version": "1.5.0",
            "orientation": "horizontal",
            "min": 0,
            "description_tooltip": null,
            "_model_module": "@jupyter-widgets/controls",
            "layout": "IPY_MODEL_43198818eb394436a76f626a9f69f82b"
          }
        },
        "d4f4f2da65e54f21b18fc2b0071bee4a": {
          "model_module": "@jupyter-widgets/controls",
          "model_name": "HTMLModel",
          "model_module_version": "1.5.0",
          "state": {
            "_view_name": "HTMLView",
            "style": "IPY_MODEL_0fdbe001ef6e436783a2a2a7dd3cadfd",
            "_dom_classes": [],
            "description": "",
            "_model_name": "HTMLModel",
            "placeholder": "​",
            "_view_module": "@jupyter-widgets/controls",
            "_model_module_version": "1.5.0",
            "value": " 38/38 [00:02&lt;00:00, 16.29it/s]",
            "_view_count": null,
            "_view_module_version": "1.5.0",
            "description_tooltip": null,
            "_model_module": "@jupyter-widgets/controls",
            "layout": "IPY_MODEL_6a8b4e64c1404fa6a6d135ec65e9c01d"
          }
        },
        "e061839e6bcc435686ec85ca7065e6b0": {
          "model_module": "@jupyter-widgets/controls",
          "model_name": "DescriptionStyleModel",
          "model_module_version": "1.5.0",
          "state": {
            "_view_name": "StyleView",
            "_model_name": "DescriptionStyleModel",
            "description_width": "",
            "_view_module": "@jupyter-widgets/base",
            "_model_module_version": "1.5.0",
            "_view_count": null,
            "_view_module_version": "1.2.0",
            "_model_module": "@jupyter-widgets/controls"
          }
        },
        "ec3968d67ceb4f53a34d30573dca5a05": {
          "model_module": "@jupyter-widgets/base",
          "model_name": "LayoutModel",
          "model_module_version": "1.2.0",
          "state": {
            "_view_name": "LayoutView",
            "grid_template_rows": null,
            "right": null,
            "justify_content": null,
            "_view_module": "@jupyter-widgets/base",
            "overflow": null,
            "_model_module_version": "1.2.0",
            "_view_count": null,
            "flex_flow": null,
            "width": null,
            "min_width": null,
            "border": null,
            "align_items": null,
            "bottom": null,
            "_model_module": "@jupyter-widgets/base",
            "top": null,
            "grid_column": null,
            "overflow_y": null,
            "overflow_x": null,
            "grid_auto_flow": null,
            "grid_area": null,
            "grid_template_columns": null,
            "flex": null,
            "_model_name": "LayoutModel",
            "justify_items": null,
            "grid_row": null,
            "max_height": null,
            "align_content": null,
            "visibility": null,
            "align_self": null,
            "height": null,
            "min_height": null,
            "padding": null,
            "grid_auto_rows": null,
            "grid_gap": null,
            "max_width": null,
            "order": null,
            "_view_module_version": "1.2.0",
            "grid_template_areas": null,
            "object_position": null,
            "object_fit": null,
            "grid_auto_columns": null,
            "margin": null,
            "display": null,
            "left": null
          }
        },
        "cd148a9da59c49d6b7b26246a2135389": {
          "model_module": "@jupyter-widgets/controls",
          "model_name": "ProgressStyleModel",
          "model_module_version": "1.5.0",
          "state": {
            "_view_name": "StyleView",
            "_model_name": "ProgressStyleModel",
            "description_width": "",
            "_view_module": "@jupyter-widgets/base",
            "_model_module_version": "1.5.0",
            "_view_count": null,
            "_view_module_version": "1.2.0",
            "bar_color": null,
            "_model_module": "@jupyter-widgets/controls"
          }
        },
        "43198818eb394436a76f626a9f69f82b": {
          "model_module": "@jupyter-widgets/base",
          "model_name": "LayoutModel",
          "model_module_version": "1.2.0",
          "state": {
            "_view_name": "LayoutView",
            "grid_template_rows": null,
            "right": null,
            "justify_content": null,
            "_view_module": "@jupyter-widgets/base",
            "overflow": null,
            "_model_module_version": "1.2.0",
            "_view_count": null,
            "flex_flow": null,
            "width": null,
            "min_width": null,
            "border": null,
            "align_items": null,
            "bottom": null,
            "_model_module": "@jupyter-widgets/base",
            "top": null,
            "grid_column": null,
            "overflow_y": null,
            "overflow_x": null,
            "grid_auto_flow": null,
            "grid_area": null,
            "grid_template_columns": null,
            "flex": "2",
            "_model_name": "LayoutModel",
            "justify_items": null,
            "grid_row": null,
            "max_height": null,
            "align_content": null,
            "visibility": null,
            "align_self": null,
            "height": null,
            "min_height": null,
            "padding": null,
            "grid_auto_rows": null,
            "grid_gap": null,
            "max_width": null,
            "order": null,
            "_view_module_version": "1.2.0",
            "grid_template_areas": null,
            "object_position": null,
            "object_fit": null,
            "grid_auto_columns": null,
            "margin": null,
            "display": null,
            "left": null
          }
        },
        "0fdbe001ef6e436783a2a2a7dd3cadfd": {
          "model_module": "@jupyter-widgets/controls",
          "model_name": "DescriptionStyleModel",
          "model_module_version": "1.5.0",
          "state": {
            "_view_name": "StyleView",
            "_model_name": "DescriptionStyleModel",
            "description_width": "",
            "_view_module": "@jupyter-widgets/base",
            "_model_module_version": "1.5.0",
            "_view_count": null,
            "_view_module_version": "1.2.0",
            "_model_module": "@jupyter-widgets/controls"
          }
        },
        "6a8b4e64c1404fa6a6d135ec65e9c01d": {
          "model_module": "@jupyter-widgets/base",
          "model_name": "LayoutModel",
          "model_module_version": "1.2.0",
          "state": {
            "_view_name": "LayoutView",
            "grid_template_rows": null,
            "right": null,
            "justify_content": null,
            "_view_module": "@jupyter-widgets/base",
            "overflow": null,
            "_model_module_version": "1.2.0",
            "_view_count": null,
            "flex_flow": null,
            "width": null,
            "min_width": null,
            "border": null,
            "align_items": null,
            "bottom": null,
            "_model_module": "@jupyter-widgets/base",
            "top": null,
            "grid_column": null,
            "overflow_y": null,
            "overflow_x": null,
            "grid_auto_flow": null,
            "grid_area": null,
            "grid_template_columns": null,
            "flex": null,
            "_model_name": "LayoutModel",
            "justify_items": null,
            "grid_row": null,
            "max_height": null,
            "align_content": null,
            "visibility": null,
            "align_self": null,
            "height": null,
            "min_height": null,
            "padding": null,
            "grid_auto_rows": null,
            "grid_gap": null,
            "max_width": null,
            "order": null,
            "_view_module_version": "1.2.0",
            "grid_template_areas": null,
            "object_position": null,
            "object_fit": null,
            "grid_auto_columns": null,
            "margin": null,
            "display": null,
            "left": null
          }
        }
      }
    }
  },
  "nbformat": 4,
  "nbformat_minor": 0
}